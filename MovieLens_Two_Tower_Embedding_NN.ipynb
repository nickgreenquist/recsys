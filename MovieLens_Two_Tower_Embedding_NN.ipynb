{
  "nbformat": 4,
  "nbformat_minor": 0,
  "metadata": {
    "colab": {
      "provenance": [],
      "authorship_tag": "ABX9TyO4VhxZLAwpNl2/K9h2Z5ST",
      "include_colab_link": true
    },
    "kernelspec": {
      "name": "python3",
      "display_name": "Python 3"
    },
    "language_info": {
      "name": "python"
    }
  },
  "cells": [
    {
      "cell_type": "markdown",
      "metadata": {
        "id": "view-in-github",
        "colab_type": "text"
      },
      "source": [
        "<a href=\"https://colab.research.google.com/github/nickgreenquist/recsys/blob/main/MovieLens_Two_Tower_Embedding_NN.ipynb\" target=\"_parent\"><img src=\"https://colab.research.google.com/assets/colab-badge.svg\" alt=\"Open In Colab\"/></a>"
      ]
    },
    {
      "cell_type": "code",
      "execution_count": 5,
      "metadata": {
        "id": "oH1_445JoNNz"
      },
      "outputs": [],
      "source": [
        "import torch\n",
        "import torch.nn.functional as F\n",
        "import random\n",
        "\n",
        "import pandas as pd\n",
        "import numpy as np\n",
        "\n",
        "import matplotlib.pyplot as plt\n",
        "%matplotlib inline"
      ]
    },
    {
      "cell_type": "code",
      "source": [
        "num_ratings_to_read = 500_000\n",
        "\n",
        "df_ratings = pd.read_csv('ratings.csv', nrows=num_ratings_to_read)"
      ],
      "metadata": {
        "id": "sbUl4oLiocXu"
      },
      "execution_count": 7,
      "outputs": []
    },
    {
      "cell_type": "code",
      "source": [
        "len(df_ratings)"
      ],
      "metadata": {
        "colab": {
          "base_uri": "https://localhost:8080/"
        },
        "id": "JwOzHRikpFxr",
        "outputId": "2897ecd8-24ae-4a95-ed5d-7caf008266bc"
      },
      "execution_count": 8,
      "outputs": [
        {
          "output_type": "execute_result",
          "data": {
            "text/plain": [
              "100836"
            ]
          },
          "metadata": {},
          "execution_count": 8
        }
      ]
    },
    {
      "cell_type": "code",
      "source": [
        "# clean the ratings data\n",
        "df_ratings = df_ratings.dropna()\n",
        "df_ratings['movieId'] = df_ratings['movieId'].astype(int)"
      ],
      "metadata": {
        "id": "LuVToGGopH9z"
      },
      "execution_count": 9,
      "outputs": []
    },
    {
      "cell_type": "code",
      "source": [
        "df_ratings.head(3)"
      ],
      "metadata": {
        "colab": {
          "base_uri": "https://localhost:8080/",
          "height": 143
        },
        "id": "u_G0K_Lupb59",
        "outputId": "a2860c8a-6af2-4937-bbf5-b1bf968d15f1"
      },
      "execution_count": 10,
      "outputs": [
        {
          "output_type": "execute_result",
          "data": {
            "text/plain": [
              "   userId  movieId  rating  timestamp\n",
              "0       1        1     4.0  964982703\n",
              "1       1        3     4.0  964981247\n",
              "2       1        6     4.0  964982224"
            ],
            "text/html": [
              "\n",
              "  <div id=\"df-201c2e37-eb5e-40f4-adff-2974830a5077\" class=\"colab-df-container\">\n",
              "    <div>\n",
              "<style scoped>\n",
              "    .dataframe tbody tr th:only-of-type {\n",
              "        vertical-align: middle;\n",
              "    }\n",
              "\n",
              "    .dataframe tbody tr th {\n",
              "        vertical-align: top;\n",
              "    }\n",
              "\n",
              "    .dataframe thead th {\n",
              "        text-align: right;\n",
              "    }\n",
              "</style>\n",
              "<table border=\"1\" class=\"dataframe\">\n",
              "  <thead>\n",
              "    <tr style=\"text-align: right;\">\n",
              "      <th></th>\n",
              "      <th>userId</th>\n",
              "      <th>movieId</th>\n",
              "      <th>rating</th>\n",
              "      <th>timestamp</th>\n",
              "    </tr>\n",
              "  </thead>\n",
              "  <tbody>\n",
              "    <tr>\n",
              "      <th>0</th>\n",
              "      <td>1</td>\n",
              "      <td>1</td>\n",
              "      <td>4.0</td>\n",
              "      <td>964982703</td>\n",
              "    </tr>\n",
              "    <tr>\n",
              "      <th>1</th>\n",
              "      <td>1</td>\n",
              "      <td>3</td>\n",
              "      <td>4.0</td>\n",
              "      <td>964981247</td>\n",
              "    </tr>\n",
              "    <tr>\n",
              "      <th>2</th>\n",
              "      <td>1</td>\n",
              "      <td>6</td>\n",
              "      <td>4.0</td>\n",
              "      <td>964982224</td>\n",
              "    </tr>\n",
              "  </tbody>\n",
              "</table>\n",
              "</div>\n",
              "    <div class=\"colab-df-buttons\">\n",
              "\n",
              "  <div class=\"colab-df-container\">\n",
              "    <button class=\"colab-df-convert\" onclick=\"convertToInteractive('df-201c2e37-eb5e-40f4-adff-2974830a5077')\"\n",
              "            title=\"Convert this dataframe to an interactive table.\"\n",
              "            style=\"display:none;\">\n",
              "\n",
              "  <svg xmlns=\"http://www.w3.org/2000/svg\" height=\"24px\" viewBox=\"0 -960 960 960\">\n",
              "    <path d=\"M120-120v-720h720v720H120Zm60-500h600v-160H180v160Zm220 220h160v-160H400v160Zm0 220h160v-160H400v160ZM180-400h160v-160H180v160Zm440 0h160v-160H620v160ZM180-180h160v-160H180v160Zm440 0h160v-160H620v160Z\"/>\n",
              "  </svg>\n",
              "    </button>\n",
              "\n",
              "  <style>\n",
              "    .colab-df-container {\n",
              "      display:flex;\n",
              "      gap: 12px;\n",
              "    }\n",
              "\n",
              "    .colab-df-convert {\n",
              "      background-color: #E8F0FE;\n",
              "      border: none;\n",
              "      border-radius: 50%;\n",
              "      cursor: pointer;\n",
              "      display: none;\n",
              "      fill: #1967D2;\n",
              "      height: 32px;\n",
              "      padding: 0 0 0 0;\n",
              "      width: 32px;\n",
              "    }\n",
              "\n",
              "    .colab-df-convert:hover {\n",
              "      background-color: #E2EBFA;\n",
              "      box-shadow: 0px 1px 2px rgba(60, 64, 67, 0.3), 0px 1px 3px 1px rgba(60, 64, 67, 0.15);\n",
              "      fill: #174EA6;\n",
              "    }\n",
              "\n",
              "    .colab-df-buttons div {\n",
              "      margin-bottom: 4px;\n",
              "    }\n",
              "\n",
              "    [theme=dark] .colab-df-convert {\n",
              "      background-color: #3B4455;\n",
              "      fill: #D2E3FC;\n",
              "    }\n",
              "\n",
              "    [theme=dark] .colab-df-convert:hover {\n",
              "      background-color: #434B5C;\n",
              "      box-shadow: 0px 1px 3px 1px rgba(0, 0, 0, 0.15);\n",
              "      filter: drop-shadow(0px 1px 2px rgba(0, 0, 0, 0.3));\n",
              "      fill: #FFFFFF;\n",
              "    }\n",
              "  </style>\n",
              "\n",
              "    <script>\n",
              "      const buttonEl =\n",
              "        document.querySelector('#df-201c2e37-eb5e-40f4-adff-2974830a5077 button.colab-df-convert');\n",
              "      buttonEl.style.display =\n",
              "        google.colab.kernel.accessAllowed ? 'block' : 'none';\n",
              "\n",
              "      async function convertToInteractive(key) {\n",
              "        const element = document.querySelector('#df-201c2e37-eb5e-40f4-adff-2974830a5077');\n",
              "        const dataTable =\n",
              "          await google.colab.kernel.invokeFunction('convertToInteractive',\n",
              "                                                    [key], {});\n",
              "        if (!dataTable) return;\n",
              "\n",
              "        const docLinkHtml = 'Like what you see? Visit the ' +\n",
              "          '<a target=\"_blank\" href=https://colab.research.google.com/notebooks/data_table.ipynb>data table notebook</a>'\n",
              "          + ' to learn more about interactive tables.';\n",
              "        element.innerHTML = '';\n",
              "        dataTable['output_type'] = 'display_data';\n",
              "        await google.colab.output.renderOutput(dataTable, element);\n",
              "        const docLink = document.createElement('div');\n",
              "        docLink.innerHTML = docLinkHtml;\n",
              "        element.appendChild(docLink);\n",
              "      }\n",
              "    </script>\n",
              "  </div>\n",
              "\n",
              "\n",
              "<div id=\"df-a3e21aad-501b-47f9-b24e-5d51dc8d220c\">\n",
              "  <button class=\"colab-df-quickchart\" onclick=\"quickchart('df-a3e21aad-501b-47f9-b24e-5d51dc8d220c')\"\n",
              "            title=\"Suggest charts\"\n",
              "            style=\"display:none;\">\n",
              "\n",
              "<svg xmlns=\"http://www.w3.org/2000/svg\" height=\"24px\"viewBox=\"0 0 24 24\"\n",
              "     width=\"24px\">\n",
              "    <g>\n",
              "        <path d=\"M19 3H5c-1.1 0-2 .9-2 2v14c0 1.1.9 2 2 2h14c1.1 0 2-.9 2-2V5c0-1.1-.9-2-2-2zM9 17H7v-7h2v7zm4 0h-2V7h2v10zm4 0h-2v-4h2v4z\"/>\n",
              "    </g>\n",
              "</svg>\n",
              "  </button>\n",
              "\n",
              "<style>\n",
              "  .colab-df-quickchart {\n",
              "      --bg-color: #E8F0FE;\n",
              "      --fill-color: #1967D2;\n",
              "      --hover-bg-color: #E2EBFA;\n",
              "      --hover-fill-color: #174EA6;\n",
              "      --disabled-fill-color: #AAA;\n",
              "      --disabled-bg-color: #DDD;\n",
              "  }\n",
              "\n",
              "  [theme=dark] .colab-df-quickchart {\n",
              "      --bg-color: #3B4455;\n",
              "      --fill-color: #D2E3FC;\n",
              "      --hover-bg-color: #434B5C;\n",
              "      --hover-fill-color: #FFFFFF;\n",
              "      --disabled-bg-color: #3B4455;\n",
              "      --disabled-fill-color: #666;\n",
              "  }\n",
              "\n",
              "  .colab-df-quickchart {\n",
              "    background-color: var(--bg-color);\n",
              "    border: none;\n",
              "    border-radius: 50%;\n",
              "    cursor: pointer;\n",
              "    display: none;\n",
              "    fill: var(--fill-color);\n",
              "    height: 32px;\n",
              "    padding: 0;\n",
              "    width: 32px;\n",
              "  }\n",
              "\n",
              "  .colab-df-quickchart:hover {\n",
              "    background-color: var(--hover-bg-color);\n",
              "    box-shadow: 0 1px 2px rgba(60, 64, 67, 0.3), 0 1px 3px 1px rgba(60, 64, 67, 0.15);\n",
              "    fill: var(--button-hover-fill-color);\n",
              "  }\n",
              "\n",
              "  .colab-df-quickchart-complete:disabled,\n",
              "  .colab-df-quickchart-complete:disabled:hover {\n",
              "    background-color: var(--disabled-bg-color);\n",
              "    fill: var(--disabled-fill-color);\n",
              "    box-shadow: none;\n",
              "  }\n",
              "\n",
              "  .colab-df-spinner {\n",
              "    border: 2px solid var(--fill-color);\n",
              "    border-color: transparent;\n",
              "    border-bottom-color: var(--fill-color);\n",
              "    animation:\n",
              "      spin 1s steps(1) infinite;\n",
              "  }\n",
              "\n",
              "  @keyframes spin {\n",
              "    0% {\n",
              "      border-color: transparent;\n",
              "      border-bottom-color: var(--fill-color);\n",
              "      border-left-color: var(--fill-color);\n",
              "    }\n",
              "    20% {\n",
              "      border-color: transparent;\n",
              "      border-left-color: var(--fill-color);\n",
              "      border-top-color: var(--fill-color);\n",
              "    }\n",
              "    30% {\n",
              "      border-color: transparent;\n",
              "      border-left-color: var(--fill-color);\n",
              "      border-top-color: var(--fill-color);\n",
              "      border-right-color: var(--fill-color);\n",
              "    }\n",
              "    40% {\n",
              "      border-color: transparent;\n",
              "      border-right-color: var(--fill-color);\n",
              "      border-top-color: var(--fill-color);\n",
              "    }\n",
              "    60% {\n",
              "      border-color: transparent;\n",
              "      border-right-color: var(--fill-color);\n",
              "    }\n",
              "    80% {\n",
              "      border-color: transparent;\n",
              "      border-right-color: var(--fill-color);\n",
              "      border-bottom-color: var(--fill-color);\n",
              "    }\n",
              "    90% {\n",
              "      border-color: transparent;\n",
              "      border-bottom-color: var(--fill-color);\n",
              "    }\n",
              "  }\n",
              "</style>\n",
              "\n",
              "  <script>\n",
              "    async function quickchart(key) {\n",
              "      const quickchartButtonEl =\n",
              "        document.querySelector('#' + key + ' button');\n",
              "      quickchartButtonEl.disabled = true;  // To prevent multiple clicks.\n",
              "      quickchartButtonEl.classList.add('colab-df-spinner');\n",
              "      try {\n",
              "        const charts = await google.colab.kernel.invokeFunction(\n",
              "            'suggestCharts', [key], {});\n",
              "      } catch (error) {\n",
              "        console.error('Error during call to suggestCharts:', error);\n",
              "      }\n",
              "      quickchartButtonEl.classList.remove('colab-df-spinner');\n",
              "      quickchartButtonEl.classList.add('colab-df-quickchart-complete');\n",
              "    }\n",
              "    (() => {\n",
              "      let quickchartButtonEl =\n",
              "        document.querySelector('#df-a3e21aad-501b-47f9-b24e-5d51dc8d220c button');\n",
              "      quickchartButtonEl.style.display =\n",
              "        google.colab.kernel.accessAllowed ? 'block' : 'none';\n",
              "    })();\n",
              "  </script>\n",
              "</div>\n",
              "\n",
              "    </div>\n",
              "  </div>\n"
            ]
          },
          "metadata": {},
          "execution_count": 10
        }
      ]
    },
    {
      "cell_type": "code",
      "source": [
        "df_movies = pd.read_csv('movies.csv')"
      ],
      "metadata": {
        "id": "MtiZsZrXpdAH"
      },
      "execution_count": 11,
      "outputs": []
    },
    {
      "cell_type": "code",
      "source": [
        "df_movies.head(3)"
      ],
      "metadata": {
        "colab": {
          "base_uri": "https://localhost:8080/",
          "height": 143
        },
        "id": "poniXr1fpg7R",
        "outputId": "c9df1b2c-e2ba-42e2-dacb-7a3a98f1693e"
      },
      "execution_count": 12,
      "outputs": [
        {
          "output_type": "execute_result",
          "data": {
            "text/plain": [
              "   movieId                    title  \\\n",
              "0        1         Toy Story (1995)   \n",
              "1        2           Jumanji (1995)   \n",
              "2        3  Grumpier Old Men (1995)   \n",
              "\n",
              "                                        genres  \n",
              "0  Adventure|Animation|Children|Comedy|Fantasy  \n",
              "1                   Adventure|Children|Fantasy  \n",
              "2                               Comedy|Romance  "
            ],
            "text/html": [
              "\n",
              "  <div id=\"df-46d52621-6414-4bd0-a72f-42fb0386c6d1\" class=\"colab-df-container\">\n",
              "    <div>\n",
              "<style scoped>\n",
              "    .dataframe tbody tr th:only-of-type {\n",
              "        vertical-align: middle;\n",
              "    }\n",
              "\n",
              "    .dataframe tbody tr th {\n",
              "        vertical-align: top;\n",
              "    }\n",
              "\n",
              "    .dataframe thead th {\n",
              "        text-align: right;\n",
              "    }\n",
              "</style>\n",
              "<table border=\"1\" class=\"dataframe\">\n",
              "  <thead>\n",
              "    <tr style=\"text-align: right;\">\n",
              "      <th></th>\n",
              "      <th>movieId</th>\n",
              "      <th>title</th>\n",
              "      <th>genres</th>\n",
              "    </tr>\n",
              "  </thead>\n",
              "  <tbody>\n",
              "    <tr>\n",
              "      <th>0</th>\n",
              "      <td>1</td>\n",
              "      <td>Toy Story (1995)</td>\n",
              "      <td>Adventure|Animation|Children|Comedy|Fantasy</td>\n",
              "    </tr>\n",
              "    <tr>\n",
              "      <th>1</th>\n",
              "      <td>2</td>\n",
              "      <td>Jumanji (1995)</td>\n",
              "      <td>Adventure|Children|Fantasy</td>\n",
              "    </tr>\n",
              "    <tr>\n",
              "      <th>2</th>\n",
              "      <td>3</td>\n",
              "      <td>Grumpier Old Men (1995)</td>\n",
              "      <td>Comedy|Romance</td>\n",
              "    </tr>\n",
              "  </tbody>\n",
              "</table>\n",
              "</div>\n",
              "    <div class=\"colab-df-buttons\">\n",
              "\n",
              "  <div class=\"colab-df-container\">\n",
              "    <button class=\"colab-df-convert\" onclick=\"convertToInteractive('df-46d52621-6414-4bd0-a72f-42fb0386c6d1')\"\n",
              "            title=\"Convert this dataframe to an interactive table.\"\n",
              "            style=\"display:none;\">\n",
              "\n",
              "  <svg xmlns=\"http://www.w3.org/2000/svg\" height=\"24px\" viewBox=\"0 -960 960 960\">\n",
              "    <path d=\"M120-120v-720h720v720H120Zm60-500h600v-160H180v160Zm220 220h160v-160H400v160Zm0 220h160v-160H400v160ZM180-400h160v-160H180v160Zm440 0h160v-160H620v160ZM180-180h160v-160H180v160Zm440 0h160v-160H620v160Z\"/>\n",
              "  </svg>\n",
              "    </button>\n",
              "\n",
              "  <style>\n",
              "    .colab-df-container {\n",
              "      display:flex;\n",
              "      gap: 12px;\n",
              "    }\n",
              "\n",
              "    .colab-df-convert {\n",
              "      background-color: #E8F0FE;\n",
              "      border: none;\n",
              "      border-radius: 50%;\n",
              "      cursor: pointer;\n",
              "      display: none;\n",
              "      fill: #1967D2;\n",
              "      height: 32px;\n",
              "      padding: 0 0 0 0;\n",
              "      width: 32px;\n",
              "    }\n",
              "\n",
              "    .colab-df-convert:hover {\n",
              "      background-color: #E2EBFA;\n",
              "      box-shadow: 0px 1px 2px rgba(60, 64, 67, 0.3), 0px 1px 3px 1px rgba(60, 64, 67, 0.15);\n",
              "      fill: #174EA6;\n",
              "    }\n",
              "\n",
              "    .colab-df-buttons div {\n",
              "      margin-bottom: 4px;\n",
              "    }\n",
              "\n",
              "    [theme=dark] .colab-df-convert {\n",
              "      background-color: #3B4455;\n",
              "      fill: #D2E3FC;\n",
              "    }\n",
              "\n",
              "    [theme=dark] .colab-df-convert:hover {\n",
              "      background-color: #434B5C;\n",
              "      box-shadow: 0px 1px 3px 1px rgba(0, 0, 0, 0.15);\n",
              "      filter: drop-shadow(0px 1px 2px rgba(0, 0, 0, 0.3));\n",
              "      fill: #FFFFFF;\n",
              "    }\n",
              "  </style>\n",
              "\n",
              "    <script>\n",
              "      const buttonEl =\n",
              "        document.querySelector('#df-46d52621-6414-4bd0-a72f-42fb0386c6d1 button.colab-df-convert');\n",
              "      buttonEl.style.display =\n",
              "        google.colab.kernel.accessAllowed ? 'block' : 'none';\n",
              "\n",
              "      async function convertToInteractive(key) {\n",
              "        const element = document.querySelector('#df-46d52621-6414-4bd0-a72f-42fb0386c6d1');\n",
              "        const dataTable =\n",
              "          await google.colab.kernel.invokeFunction('convertToInteractive',\n",
              "                                                    [key], {});\n",
              "        if (!dataTable) return;\n",
              "\n",
              "        const docLinkHtml = 'Like what you see? Visit the ' +\n",
              "          '<a target=\"_blank\" href=https://colab.research.google.com/notebooks/data_table.ipynb>data table notebook</a>'\n",
              "          + ' to learn more about interactive tables.';\n",
              "        element.innerHTML = '';\n",
              "        dataTable['output_type'] = 'display_data';\n",
              "        await google.colab.output.renderOutput(dataTable, element);\n",
              "        const docLink = document.createElement('div');\n",
              "        docLink.innerHTML = docLinkHtml;\n",
              "        element.appendChild(docLink);\n",
              "      }\n",
              "    </script>\n",
              "  </div>\n",
              "\n",
              "\n",
              "<div id=\"df-8f35c146-dde8-4d78-b94c-0ba9ab09c242\">\n",
              "  <button class=\"colab-df-quickchart\" onclick=\"quickchart('df-8f35c146-dde8-4d78-b94c-0ba9ab09c242')\"\n",
              "            title=\"Suggest charts\"\n",
              "            style=\"display:none;\">\n",
              "\n",
              "<svg xmlns=\"http://www.w3.org/2000/svg\" height=\"24px\"viewBox=\"0 0 24 24\"\n",
              "     width=\"24px\">\n",
              "    <g>\n",
              "        <path d=\"M19 3H5c-1.1 0-2 .9-2 2v14c0 1.1.9 2 2 2h14c1.1 0 2-.9 2-2V5c0-1.1-.9-2-2-2zM9 17H7v-7h2v7zm4 0h-2V7h2v10zm4 0h-2v-4h2v4z\"/>\n",
              "    </g>\n",
              "</svg>\n",
              "  </button>\n",
              "\n",
              "<style>\n",
              "  .colab-df-quickchart {\n",
              "      --bg-color: #E8F0FE;\n",
              "      --fill-color: #1967D2;\n",
              "      --hover-bg-color: #E2EBFA;\n",
              "      --hover-fill-color: #174EA6;\n",
              "      --disabled-fill-color: #AAA;\n",
              "      --disabled-bg-color: #DDD;\n",
              "  }\n",
              "\n",
              "  [theme=dark] .colab-df-quickchart {\n",
              "      --bg-color: #3B4455;\n",
              "      --fill-color: #D2E3FC;\n",
              "      --hover-bg-color: #434B5C;\n",
              "      --hover-fill-color: #FFFFFF;\n",
              "      --disabled-bg-color: #3B4455;\n",
              "      --disabled-fill-color: #666;\n",
              "  }\n",
              "\n",
              "  .colab-df-quickchart {\n",
              "    background-color: var(--bg-color);\n",
              "    border: none;\n",
              "    border-radius: 50%;\n",
              "    cursor: pointer;\n",
              "    display: none;\n",
              "    fill: var(--fill-color);\n",
              "    height: 32px;\n",
              "    padding: 0;\n",
              "    width: 32px;\n",
              "  }\n",
              "\n",
              "  .colab-df-quickchart:hover {\n",
              "    background-color: var(--hover-bg-color);\n",
              "    box-shadow: 0 1px 2px rgba(60, 64, 67, 0.3), 0 1px 3px 1px rgba(60, 64, 67, 0.15);\n",
              "    fill: var(--button-hover-fill-color);\n",
              "  }\n",
              "\n",
              "  .colab-df-quickchart-complete:disabled,\n",
              "  .colab-df-quickchart-complete:disabled:hover {\n",
              "    background-color: var(--disabled-bg-color);\n",
              "    fill: var(--disabled-fill-color);\n",
              "    box-shadow: none;\n",
              "  }\n",
              "\n",
              "  .colab-df-spinner {\n",
              "    border: 2px solid var(--fill-color);\n",
              "    border-color: transparent;\n",
              "    border-bottom-color: var(--fill-color);\n",
              "    animation:\n",
              "      spin 1s steps(1) infinite;\n",
              "  }\n",
              "\n",
              "  @keyframes spin {\n",
              "    0% {\n",
              "      border-color: transparent;\n",
              "      border-bottom-color: var(--fill-color);\n",
              "      border-left-color: var(--fill-color);\n",
              "    }\n",
              "    20% {\n",
              "      border-color: transparent;\n",
              "      border-left-color: var(--fill-color);\n",
              "      border-top-color: var(--fill-color);\n",
              "    }\n",
              "    30% {\n",
              "      border-color: transparent;\n",
              "      border-left-color: var(--fill-color);\n",
              "      border-top-color: var(--fill-color);\n",
              "      border-right-color: var(--fill-color);\n",
              "    }\n",
              "    40% {\n",
              "      border-color: transparent;\n",
              "      border-right-color: var(--fill-color);\n",
              "      border-top-color: var(--fill-color);\n",
              "    }\n",
              "    60% {\n",
              "      border-color: transparent;\n",
              "      border-right-color: var(--fill-color);\n",
              "    }\n",
              "    80% {\n",
              "      border-color: transparent;\n",
              "      border-right-color: var(--fill-color);\n",
              "      border-bottom-color: var(--fill-color);\n",
              "    }\n",
              "    90% {\n",
              "      border-color: transparent;\n",
              "      border-bottom-color: var(--fill-color);\n",
              "    }\n",
              "  }\n",
              "</style>\n",
              "\n",
              "  <script>\n",
              "    async function quickchart(key) {\n",
              "      const quickchartButtonEl =\n",
              "        document.querySelector('#' + key + ' button');\n",
              "      quickchartButtonEl.disabled = true;  // To prevent multiple clicks.\n",
              "      quickchartButtonEl.classList.add('colab-df-spinner');\n",
              "      try {\n",
              "        const charts = await google.colab.kernel.invokeFunction(\n",
              "            'suggestCharts', [key], {});\n",
              "      } catch (error) {\n",
              "        console.error('Error during call to suggestCharts:', error);\n",
              "      }\n",
              "      quickchartButtonEl.classList.remove('colab-df-spinner');\n",
              "      quickchartButtonEl.classList.add('colab-df-quickchart-complete');\n",
              "    }\n",
              "    (() => {\n",
              "      let quickchartButtonEl =\n",
              "        document.querySelector('#df-8f35c146-dde8-4d78-b94c-0ba9ab09c242 button');\n",
              "      quickchartButtonEl.style.display =\n",
              "        google.colab.kernel.accessAllowed ? 'block' : 'none';\n",
              "    })();\n",
              "  </script>\n",
              "</div>\n",
              "\n",
              "    </div>\n",
              "  </div>\n"
            ]
          },
          "metadata": {},
          "execution_count": 12
        }
      ]
    },
    {
      "cell_type": "markdown",
      "source": [
        "# Movie Feature Processing"
      ],
      "metadata": {
        "id": "ZsEUjaTXtHV5"
      }
    },
    {
      "cell_type": "code",
      "source": [
        "# let's only work with movies with enough ratings.\n",
        "\n",
        "num_movies_to_keep = 500\n",
        "\n",
        "movieId_to_num_ratings = {}\n",
        "for movieId in df_ratings.movieId.unique().tolist():\n",
        "  movieId_to_num_ratings[movieId] = 0\n",
        "\n",
        "movieId_list = df_ratings.movieId.tolist()\n",
        "\n",
        "for i in range(len(movieId_list)):\n",
        "  movieId = movieId_list[i]\n",
        "  movieId_to_num_ratings[movieId] += 1\n",
        "\n",
        "top_movies = []\n",
        "for movieId, num_ratings in list(sorted(movieId_to_num_ratings.items(), key=lambda item: item[1], reverse=True))[0:num_movies_to_keep]:\n",
        "  top_movies.append(movieId)"
      ],
      "metadata": {
        "id": "P6HilTRKpiV3"
      },
      "execution_count": 31,
      "outputs": []
    },
    {
      "cell_type": "code",
      "source": [
        "# map movieId to title\n",
        "movieId_to_title = {}\n",
        "title_to_movieId = {}\n",
        "\n",
        "movieId_list = df_movies.movieId.tolist()\n",
        "title_list = df_movies.title.tolist()\n",
        "\n",
        "for i in range(len(movieId_list)):\n",
        "  movieId = movieId_list[i]\n",
        "  title = title_list[i]\n",
        "  if movieId not in top_movies:\n",
        "    continue\n",
        "\n",
        "  movieId_to_title[movieId] = title\n",
        "  title_to_movieId[title] = movieId"
      ],
      "metadata": {
        "id": "SkXt5NOPqFqI"
      },
      "execution_count": 32,
      "outputs": []
    },
    {
      "cell_type": "code",
      "source": [
        "# print the top movies\n",
        "for movieId in top_movies[0:10]:\n",
        "  print(movieId_to_title[movieId], movieId_to_num_ratings[movieId])"
      ],
      "metadata": {
        "colab": {
          "base_uri": "https://localhost:8080/"
        },
        "id": "s_CQZfpeqYJ8",
        "outputId": "cbc9d81f-9d11-4ee9-be2c-b4b7f3311d7d"
      },
      "execution_count": 33,
      "outputs": [
        {
          "output_type": "stream",
          "name": "stdout",
          "text": [
            "Forrest Gump (1994) 329\n",
            "Shawshank Redemption, The (1994) 317\n",
            "Pulp Fiction (1994) 307\n",
            "Silence of the Lambs, The (1991) 279\n",
            "Matrix, The (1999) 278\n",
            "Star Wars: Episode IV - A New Hope (1977) 251\n",
            "Jurassic Park (1993) 238\n",
            "Braveheart (1995) 237\n",
            "Terminator 2: Judgment Day (1991) 224\n",
            "Schindler's List (1993) 220\n"
          ]
        }
      ]
    },
    {
      "cell_type": "code",
      "source": [
        "# map movieId to list of genres for that movie\n",
        "genres = set()\n",
        "movieId_to_genres = {}\n",
        "\n",
        "movieId_list = df_movies.movieId.tolist()\n",
        "genre_list = df_movies.genres.tolist()\n",
        "\n",
        "for i in range(len(movieId_list)):\n",
        "  movieId = movieId_list[i]\n",
        "  if movieId not in top_movies:\n",
        "    continue\n",
        "\n",
        "  movieId_to_genres[movieId] = set()\n",
        "\n",
        "  for genre in genre_list[i].split('|'):\n",
        "    genres.add(genre)\n",
        "    movieId_to_genres[movieId].add(genre)"
      ],
      "metadata": {
        "id": "L-PkcA_pq67x"
      },
      "execution_count": 34,
      "outputs": []
    },
    {
      "cell_type": "code",
      "source": [
        "movieId_to_genres[title_to_movieId['Matrix, The (1999)']]"
      ],
      "metadata": {
        "colab": {
          "base_uri": "https://localhost:8080/"
        },
        "id": "5L0uRnlfrWAr",
        "outputId": "0395ab97-ca55-4419-949d-26d6223212b2"
      },
      "execution_count": 35,
      "outputs": [
        {
          "output_type": "execute_result",
          "data": {
            "text/plain": [
              "{'Action', 'Sci-Fi', 'Thriller'}"
            ]
          },
          "metadata": {},
          "execution_count": 35
        }
      ]
    },
    {
      "cell_type": "code",
      "source": [
        "# for every genre, get the top movies that have that genre.\n",
        "# we will use this to make sure our user 'watch history' feature vector\n",
        "# has enough movies from every genre.\n",
        "genre_to_movie_to_num_ratings = {}\n",
        "for genre in genres:\n",
        "  genre_to_movie_to_num_ratings[genre] = {}\n",
        "\n",
        "for movieId in movieId_to_genres.keys():\n",
        "  for genre in movieId_to_genres[movieId]:\n",
        "    genre_to_movie_to_num_ratings[genre][movieId] = movieId_to_num_ratings[movieId]\n",
        "\n",
        "for genre in genre_to_movie_to_num_ratings.keys():\n",
        "  genre_to_movie_to_num_ratings[genre] = sorted(genre_to_movie_to_num_ratings[genre].items(), key=lambda item: item[1], reverse=True)\n",
        "\n",
        "genre_to_top_movies = {}\n",
        "for genre in genre_to_movie_to_num_ratings.keys():\n",
        "  genre_to_top_movies[genre] = []\n",
        "  for movieId,_ in genre_to_movie_to_num_ratings[genre]:\n",
        "    genre_to_top_movies[genre].append(movieId)"
      ],
      "metadata": {
        "id": "CKkHg1L2rfVl"
      },
      "execution_count": 36,
      "outputs": []
    },
    {
      "cell_type": "code",
      "source": [
        "# for the user watch history feature, let's use some movies from each genre\n",
        "num_movies_per_genre = 10\n",
        "user_context_movies = set()\n",
        "\n",
        "for genre in genre_to_top_movies.keys():\n",
        "  for movieId in genre_to_top_movies[genre][0:num_movies_per_genre]:\n",
        "    user_context_movies.add(movieId)\n",
        "\n",
        "len(genres), len(user_context_movies)"
      ],
      "metadata": {
        "colab": {
          "base_uri": "https://localhost:8080/"
        },
        "id": "lPxKEdC5scIg",
        "outputId": "00cb9cf7-987c-42a6-b7ec-18d1ae2c98bd"
      },
      "execution_count": 37,
      "outputs": [
        {
          "output_type": "execute_result",
          "data": {
            "text/plain": [
              "(19, 102)"
            ]
          },
          "metadata": {},
          "execution_count": 37
        }
      ]
    },
    {
      "cell_type": "code",
      "source": [
        "# build ITEM movieId embedding mapping\n",
        "item_emb_movieId_to_i = {s:i for i,s in enumerate(top_movies)}\n",
        "item_emb_i_to_movieId = {i:s for s,i in enumerate(item_emb_movieId_to_i.items())}"
      ],
      "metadata": {
        "id": "VlXL2NVrtag9"
      },
      "execution_count": 53,
      "outputs": []
    },
    {
      "cell_type": "code",
      "source": [
        "# build ITEM genre feature context\n",
        "genre_to_i = {s:i for i,s in enumerate(genres)}\n",
        "i_to_genre = {i:s for s,i in genre_to_i.items()}"
      ],
      "metadata": {
        "id": "rs8YTabXtp0H"
      },
      "execution_count": 54,
      "outputs": []
    },
    {
      "cell_type": "markdown",
      "source": [
        "# User Feature Processing"
      ],
      "metadata": {
        "id": "kiIp4GmVtKWR"
      }
    },
    {
      "cell_type": "code",
      "source": [
        "# for every user, get list of all movies they have watched (with rating)\n",
        "user_to_movie_to_rating = {}\n",
        "for userId in df_ratings.userId.unique().tolist():\n",
        "  user_to_movie_to_rating[userId] = {}\n",
        "\n",
        "userId_list = df_ratings.userId.tolist()\n",
        "movieId_list = df_ratings.movieId.tolist()\n",
        "rating_list = df_ratings.rating.tolist()\n",
        "\n",
        "for i in range(len(userId_list)):\n",
        "  userId = userId_list[i]\n",
        "  movieId = movieId_list[i]\n",
        "  rating = rating_list[i]\n",
        "\n",
        "  if movieId not in top_movies:\n",
        "    continue\n",
        "\n",
        "  user_to_movie_to_rating[userId][movieId] = rating"
      ],
      "metadata": {
        "id": "DU0RClmstCgA"
      },
      "execution_count": 40,
      "outputs": []
    },
    {
      "cell_type": "code",
      "source": [
        "# build the USER context\n",
        "user_context_size = len(user_context_movies) + len(genres)\n",
        "\n",
        "user_context_movieId_to_i = {s:i for i,s in enumerate(list(user_context_movies))}\n",
        "user_context_i_to_movieId = {i:s for s,i in enumerate(user_context_movieId_to_i.items())}\n",
        "\n",
        "user_context_genre_to_i = {s:i for i,s in enumerate(list(genres))}\n",
        "user_context_i_to_genre = {i:s for s,i in enumerate(user_context_genre_to_i.items())}"
      ],
      "metadata": {
        "id": "UUrl8Vzsu_h-"
      },
      "execution_count": 42,
      "outputs": []
    },
    {
      "cell_type": "markdown",
      "source": [
        "# Genreate Training Examples"
      ],
      "metadata": {
        "id": "Fqs8Tf10v2qH"
      }
    },
    {
      "cell_type": "code",
      "source": [
        "# simulate training examples by masking out some of the user's watched movies from their context, and using them as labels.\n",
        "# we do not want the 'movie to predict' in their watch history, as we are trying to simulate the following:\n",
        "# given the user's watch history, what would they rate this new movie?\n",
        "# NOTE: this is not the same as a train/test split. This is just simulating how training examples would look like on a movie platform.\n",
        "\n",
        "percent_ratings_as_watch_history = 0.8\n",
        "\n",
        "user_to_movie_to_rating_WATCH_HISTORY = {}\n",
        "user_to_movie_to_rating_LABEL = {}\n",
        "\n",
        "for user in user_to_movie_to_rating.keys():\n",
        "  num_rated_movies = len(user_to_movie_to_rating[user])\n",
        "\n",
        "  # ignore users with few ratings\n",
        "  if num_rated_movies <= 2: continue\n",
        "\n",
        "  user_to_movie_to_rating_WATCH_HISTORY[user] = {}\n",
        "  user_to_movie_to_rating_LABEL[user] = {}\n",
        "\n",
        "  # shuffle the user's movies that they have watched\n",
        "  rated_movies = list(user_to_movie_to_rating[user].keys())\n",
        "  random.shuffle(rated_movies)\n",
        "\n",
        "  for movieId in rated_movies[:int(num_rated_movies * percent_ratings_as_watch_history)]:\n",
        "    user_to_movie_to_rating_WATCH_HISTORY[user][movieId] = user_to_movie_to_rating[user][movieId]\n",
        "  for movieId in rated_movies[int(num_rated_movies * percent_ratings_as_watch_history):]:\n",
        "    user_to_movie_to_rating_LABEL[user][movieId] = user_to_movie_to_rating[user][movieId]\n"
      ],
      "metadata": {
        "id": "tUE4C1gYvc79"
      },
      "execution_count": 55,
      "outputs": []
    },
    {
      "cell_type": "code",
      "source": [
        "# for every user, get their avg rating.\n",
        "# this will help us make the training example have information if the user liked or did not like this movie.\n",
        "user_to_avg_rating = {}\n",
        "\n",
        "# NOTE: only use ratings from their synthetic watch history.\n",
        "for user in user_to_movie_to_rating_WATCH_HISTORY.keys():\n",
        "  user_to_avg_rating[user] = 0\n",
        "  for movieId in user_to_movie_to_rating_WATCH_HISTORY[user].keys():\n",
        "    user_to_avg_rating[user] += user_to_movie_to_rating_WATCH_HISTORY[user][movieId]\n",
        "\n",
        "  user_to_avg_rating[user] /= len(user_to_movie_to_rating_WATCH_HISTORY[user].keys())"
      ],
      "metadata": {
        "id": "bOB_rm7Rxi_n"
      },
      "execution_count": 44,
      "outputs": []
    },
    {
      "cell_type": "code",
      "source": [
        "user_to_avg_rating[1]"
      ],
      "metadata": {
        "colab": {
          "base_uri": "https://localhost:8080/"
        },
        "id": "s-9pIqURyEWU",
        "outputId": "92227a79-4945-42ae-a195-69a355ae60a9"
      },
      "execution_count": 45,
      "outputs": [
        {
          "output_type": "execute_result",
          "data": {
            "text/plain": [
              "4.32"
            ]
          },
          "metadata": {},
          "execution_count": 45
        }
      ]
    },
    {
      "cell_type": "code",
      "source": [
        "# for every user, get the avg rating for every genre\n",
        "user_to_genre_to_stat = {}\n",
        "\n",
        "# NOTE: only use ratings from their synthetic watch history.\n",
        "for user in user_to_movie_to_rating_WATCH_HISTORY.keys():\n",
        "  user_to_genre_to_stat[user] = {}\n",
        "  for movieId in user_to_movie_to_rating_WATCH_HISTORY[user].keys():\n",
        "    for genre in movieId_to_genres[movieId]:\n",
        "      if genre not in user_to_genre_to_stat[user]:\n",
        "        user_to_genre_to_stat[user][genre] = {\n",
        "            'NUM_RATINGS': 0,\n",
        "            'SUM_RATINGS': 0,\n",
        "        }\n",
        "\n",
        "      user_to_genre_to_stat[user][genre]['NUM_RATINGS'] += 1\n",
        "      user_to_genre_to_stat[user][genre]['SUM_RATINGS'] += user_to_movie_to_rating_WATCH_HISTORY[user][movieId]\n",
        "\n",
        "for user in user_to_genre_to_stat.keys():\n",
        "  for genre in user_to_genre_to_stat[user].keys():\n",
        "    num_ratings = user_to_genre_to_stat[user][genre]['NUM_RATINGS']\n",
        "    sum_ratings = user_to_genre_to_stat[user][genre]['SUM_RATINGS']\n",
        "    user_to_genre_to_stat[user][genre]['AVG_RATING'] = sum_ratings / num_ratings\n"
      ],
      "metadata": {
        "id": "qHc_u8YVyGUs"
      },
      "execution_count": 46,
      "outputs": []
    },
    {
      "cell_type": "code",
      "source": [
        "# for every user, create the training example user context vector\n",
        "# 0:num_user_context_movies -> user's watch history\n",
        "# num_user_context_movies:num_user_context_movies+num_genres -> user's genre affinity\n",
        "user_to_context = {}\n",
        "for user in user_to_movie_to_rating_WATCH_HISTORY.keys():\n",
        "  context = [0.0] * user_context_size\n",
        "\n",
        "  for movieId in user_to_movie_to_rating_WATCH_HISTORY[user].keys():\n",
        "    if movieId in user_context_movies:\n",
        "      # note, we debias the rating so if the rating is under the user's avg rating,\n",
        "      # it will hopefully count as negative strength for predicting similar movies.\n",
        "      # vice-versa for a rating above the user's average.\n",
        "      context[user_context_movieId_to_i[movieId]] = float(user_to_movie_to_rating_WATCH_HISTORY[user][movieId] - user_to_avg_rating[user])\n",
        "\n",
        "  for genre in user_to_genre_to_stat[user].keys():\n",
        "    context[user_context_genre_to_i[genre]] = float(user_to_genre_to_stat[user][genre]['AVG_RATING'] - user_to_avg_rating[user])\n",
        "\n",
        "  user_to_context[user] = context"
      ],
      "metadata": {
        "id": "582v8d0Sy91s"
      },
      "execution_count": 48,
      "outputs": []
    },
    {
      "cell_type": "code",
      "source": [
        "# for every movie, create a training example feature context vector for them\n",
        "# it will contain the movie's genres.\n",
        "movieId_to_context = {}\n",
        "for movieId in top_movies:\n",
        "  context = [0.0] * len(genres)\n",
        "\n",
        "  for genre in movieId_to_genres[movieId]:\n",
        "    context[genre_to_i[genre]] = float(1.0)\n",
        "\n",
        "  movieId_to_context[movieId] = context"
      ],
      "metadata": {
        "id": "gNLFC8wx0Gt2"
      },
      "execution_count": 49,
      "outputs": []
    },
    {
      "cell_type": "code",
      "source": [
        "# Build the final Dataset\n",
        "def build_dataset(users):\n",
        "  # the user context (i.e. the watch hisotyr and genre affinities)\n",
        "  X = []\n",
        "\n",
        "  # the movieID for the movie we will predict rating for.\n",
        "  # used to lookup the movie embedding to feed into the NN item tower.\n",
        "  target_movieId = []\n",
        "\n",
        "  # the feature context of the movie we will predict the rating for.\n",
        "  # will also feed into it's own embedding and will be stacked with the embedding above.\n",
        "  target_movieId_context = []\n",
        "\n",
        "  # the predicted rating\n",
        "  Y = []\n",
        "\n",
        "  # create training examples, one for each movie the user has that we want as a label.\n",
        "  for user in users:\n",
        "    for movieId in user_to_movie_to_rating_LABEL[user].keys():\n",
        "      X.append(user_to_context[user])\n",
        "\n",
        "      target_movieId.append(item_emb_movieId_to_i[movieId])\n",
        "\n",
        "      target_movieId_context.append(movieId_to_context[movieId])\n",
        "\n",
        "      # remember to debias the user rating so we can learn to predict if user\n",
        "      # like/dislike a movie based on their features and the movie features.\n",
        "      Y.append(float(user_to_movie_to_rating_LABEL[user][movieId] - user_to_avg_rating[user]))\n",
        "\n",
        "  X = torch.tensor(X)\n",
        "  Y = torch.tensor(Y)\n",
        "  target_movieId = torch.tensor(target_movieId)\n",
        "  target_movieId_context = torch.tensor(target_movieId_context)\n",
        "\n",
        "  return X,Y,target_movieId,target_movieId_context"
      ],
      "metadata": {
        "id": "TeZR-nqC0nyt"
      },
      "execution_count": 58,
      "outputs": []
    },
    {
      "cell_type": "code",
      "source": [
        "# user users with enough ratings to be useful for model learning.\n",
        "final_users = []\n",
        "\n",
        "for user in user_to_movie_to_rating.keys():\n",
        "  num_ratings = len(user_to_movie_to_rating[user])\n",
        "\n",
        "  if num_ratings > 5 and num_ratings < 500:\n",
        "    final_users.append(user)\n",
        "\n",
        "len(final_users)"
      ],
      "metadata": {
        "colab": {
          "base_uri": "https://localhost:8080/"
        },
        "id": "7UL41mDO2am8",
        "outputId": "3671de79-17b6-44fd-dd44-8a3a7f87534f"
      },
      "execution_count": 60,
      "outputs": [
        {
          "output_type": "execute_result",
          "data": {
            "text/plain": [
              "593"
            ]
          },
          "metadata": {},
          "execution_count": 60
        }
      ]
    },
    {
      "cell_type": "code",
      "source": [
        "X,Y,target_movieId,target_movieId_context = build_dataset(final_users)"
      ],
      "metadata": {
        "id": "gOf31QdW2pIW"
      },
      "execution_count": 61,
      "outputs": []
    },
    {
      "cell_type": "code",
      "source": [
        "X.shape, Y.shape, target_movieId.shape, target_movieId_context.shape"
      ],
      "metadata": {
        "colab": {
          "base_uri": "https://localhost:8080/"
        },
        "id": "kUtSY4e32uLo",
        "outputId": "57de6251-e24e-4d54-e223-b7f2a9e0114c"
      },
      "execution_count": 62,
      "outputs": [
        {
          "output_type": "execute_result",
          "data": {
            "text/plain": [
              "(torch.Size([8975, 121]),\n",
              " torch.Size([8975]),\n",
              " torch.Size([8975]),\n",
              " torch.Size([8975, 19]))"
            ]
          },
          "metadata": {},
          "execution_count": 62
        }
      ]
    },
    {
      "cell_type": "markdown",
      "source": [
        "# Build our Two Tower Model"
      ],
      "metadata": {
        "id": "3nE_-j5B3WVM"
      }
    },
    {
      "cell_type": "code",
      "source": [
        "# TODO"
      ],
      "metadata": {
        "id": "dNnv_PmR3UpL"
      },
      "execution_count": null,
      "outputs": []
    }
  ]
}