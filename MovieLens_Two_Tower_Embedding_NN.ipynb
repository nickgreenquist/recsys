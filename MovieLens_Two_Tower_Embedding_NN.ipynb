{
  "nbformat": 4,
  "nbformat_minor": 0,
  "metadata": {
    "colab": {
      "provenance": [],
      "authorship_tag": "ABX9TyPtDZCc1OFjyMPgDRqC/oTa",
      "include_colab_link": true
    },
    "kernelspec": {
      "name": "python3",
      "display_name": "Python 3"
    },
    "language_info": {
      "name": "python"
    }
  },
  "cells": [
    {
      "cell_type": "markdown",
      "metadata": {
        "id": "view-in-github",
        "colab_type": "text"
      },
      "source": [
        "<a href=\"https://colab.research.google.com/github/nickgreenquist/recsys/blob/main/MovieLens_Two_Tower_Embedding_NN.ipynb\" target=\"_parent\"><img src=\"https://colab.research.google.com/assets/colab-badge.svg\" alt=\"Open In Colab\"/></a>"
      ]
    },
    {
      "cell_type": "code",
      "execution_count": 97,
      "metadata": {
        "id": "oH1_445JoNNz"
      },
      "outputs": [],
      "source": [
        "import torch\n",
        "import torch.nn.functional as F\n",
        "import random\n",
        "\n",
        "import pandas as pd\n",
        "import numpy as np\n",
        "\n",
        "import matplotlib.pyplot as plt\n",
        "%matplotlib inline"
      ]
    },
    {
      "cell_type": "code",
      "source": [
        "num_ratings_to_read = 5_000_000\n",
        "\n",
        "df_ratings = pd.read_csv('ratings.csv', nrows=num_ratings_to_read)"
      ],
      "metadata": {
        "id": "sbUl4oLiocXu"
      },
      "execution_count": 100,
      "outputs": []
    },
    {
      "cell_type": "code",
      "source": [
        "len(df_ratings)"
      ],
      "metadata": {
        "colab": {
          "base_uri": "https://localhost:8080/"
        },
        "id": "JwOzHRikpFxr",
        "outputId": "3aa10b13-dbb1-4648-caf8-cfc1c52aeb06"
      },
      "execution_count": 101,
      "outputs": [
        {
          "output_type": "execute_result",
          "data": {
            "text/plain": [
              "5000000"
            ]
          },
          "metadata": {},
          "execution_count": 101
        }
      ]
    },
    {
      "cell_type": "code",
      "source": [
        "# clean the ratings data\n",
        "df_ratings = df_ratings.dropna()\n",
        "df_ratings['movieId'] = df_ratings['movieId'].astype(int)"
      ],
      "metadata": {
        "id": "LuVToGGopH9z"
      },
      "execution_count": 102,
      "outputs": []
    },
    {
      "cell_type": "code",
      "source": [
        "df_ratings.head(3)"
      ],
      "metadata": {
        "colab": {
          "base_uri": "https://localhost:8080/",
          "height": 143
        },
        "id": "u_G0K_Lupb59",
        "outputId": "d6a4c82b-2d63-4840-962b-6dcc5b621be4"
      },
      "execution_count": 103,
      "outputs": [
        {
          "output_type": "execute_result",
          "data": {
            "text/plain": [
              "   userId  movieId  rating   timestamp\n",
              "0       1        1     4.0  1225734739\n",
              "1       1      110     4.0  1225865086\n",
              "2       1      158     4.0  1225733503"
            ],
            "text/html": [
              "\n",
              "  <div id=\"df-4df36a8b-d74a-49bc-a451-098862cbe6db\" class=\"colab-df-container\">\n",
              "    <div>\n",
              "<style scoped>\n",
              "    .dataframe tbody tr th:only-of-type {\n",
              "        vertical-align: middle;\n",
              "    }\n",
              "\n",
              "    .dataframe tbody tr th {\n",
              "        vertical-align: top;\n",
              "    }\n",
              "\n",
              "    .dataframe thead th {\n",
              "        text-align: right;\n",
              "    }\n",
              "</style>\n",
              "<table border=\"1\" class=\"dataframe\">\n",
              "  <thead>\n",
              "    <tr style=\"text-align: right;\">\n",
              "      <th></th>\n",
              "      <th>userId</th>\n",
              "      <th>movieId</th>\n",
              "      <th>rating</th>\n",
              "      <th>timestamp</th>\n",
              "    </tr>\n",
              "  </thead>\n",
              "  <tbody>\n",
              "    <tr>\n",
              "      <th>0</th>\n",
              "      <td>1</td>\n",
              "      <td>1</td>\n",
              "      <td>4.0</td>\n",
              "      <td>1225734739</td>\n",
              "    </tr>\n",
              "    <tr>\n",
              "      <th>1</th>\n",
              "      <td>1</td>\n",
              "      <td>110</td>\n",
              "      <td>4.0</td>\n",
              "      <td>1225865086</td>\n",
              "    </tr>\n",
              "    <tr>\n",
              "      <th>2</th>\n",
              "      <td>1</td>\n",
              "      <td>158</td>\n",
              "      <td>4.0</td>\n",
              "      <td>1225733503</td>\n",
              "    </tr>\n",
              "  </tbody>\n",
              "</table>\n",
              "</div>\n",
              "    <div class=\"colab-df-buttons\">\n",
              "\n",
              "  <div class=\"colab-df-container\">\n",
              "    <button class=\"colab-df-convert\" onclick=\"convertToInteractive('df-4df36a8b-d74a-49bc-a451-098862cbe6db')\"\n",
              "            title=\"Convert this dataframe to an interactive table.\"\n",
              "            style=\"display:none;\">\n",
              "\n",
              "  <svg xmlns=\"http://www.w3.org/2000/svg\" height=\"24px\" viewBox=\"0 -960 960 960\">\n",
              "    <path d=\"M120-120v-720h720v720H120Zm60-500h600v-160H180v160Zm220 220h160v-160H400v160Zm0 220h160v-160H400v160ZM180-400h160v-160H180v160Zm440 0h160v-160H620v160ZM180-180h160v-160H180v160Zm440 0h160v-160H620v160Z\"/>\n",
              "  </svg>\n",
              "    </button>\n",
              "\n",
              "  <style>\n",
              "    .colab-df-container {\n",
              "      display:flex;\n",
              "      gap: 12px;\n",
              "    }\n",
              "\n",
              "    .colab-df-convert {\n",
              "      background-color: #E8F0FE;\n",
              "      border: none;\n",
              "      border-radius: 50%;\n",
              "      cursor: pointer;\n",
              "      display: none;\n",
              "      fill: #1967D2;\n",
              "      height: 32px;\n",
              "      padding: 0 0 0 0;\n",
              "      width: 32px;\n",
              "    }\n",
              "\n",
              "    .colab-df-convert:hover {\n",
              "      background-color: #E2EBFA;\n",
              "      box-shadow: 0px 1px 2px rgba(60, 64, 67, 0.3), 0px 1px 3px 1px rgba(60, 64, 67, 0.15);\n",
              "      fill: #174EA6;\n",
              "    }\n",
              "\n",
              "    .colab-df-buttons div {\n",
              "      margin-bottom: 4px;\n",
              "    }\n",
              "\n",
              "    [theme=dark] .colab-df-convert {\n",
              "      background-color: #3B4455;\n",
              "      fill: #D2E3FC;\n",
              "    }\n",
              "\n",
              "    [theme=dark] .colab-df-convert:hover {\n",
              "      background-color: #434B5C;\n",
              "      box-shadow: 0px 1px 3px 1px rgba(0, 0, 0, 0.15);\n",
              "      filter: drop-shadow(0px 1px 2px rgba(0, 0, 0, 0.3));\n",
              "      fill: #FFFFFF;\n",
              "    }\n",
              "  </style>\n",
              "\n",
              "    <script>\n",
              "      const buttonEl =\n",
              "        document.querySelector('#df-4df36a8b-d74a-49bc-a451-098862cbe6db button.colab-df-convert');\n",
              "      buttonEl.style.display =\n",
              "        google.colab.kernel.accessAllowed ? 'block' : 'none';\n",
              "\n",
              "      async function convertToInteractive(key) {\n",
              "        const element = document.querySelector('#df-4df36a8b-d74a-49bc-a451-098862cbe6db');\n",
              "        const dataTable =\n",
              "          await google.colab.kernel.invokeFunction('convertToInteractive',\n",
              "                                                    [key], {});\n",
              "        if (!dataTable) return;\n",
              "\n",
              "        const docLinkHtml = 'Like what you see? Visit the ' +\n",
              "          '<a target=\"_blank\" href=https://colab.research.google.com/notebooks/data_table.ipynb>data table notebook</a>'\n",
              "          + ' to learn more about interactive tables.';\n",
              "        element.innerHTML = '';\n",
              "        dataTable['output_type'] = 'display_data';\n",
              "        await google.colab.output.renderOutput(dataTable, element);\n",
              "        const docLink = document.createElement('div');\n",
              "        docLink.innerHTML = docLinkHtml;\n",
              "        element.appendChild(docLink);\n",
              "      }\n",
              "    </script>\n",
              "  </div>\n",
              "\n",
              "\n",
              "<div id=\"df-836448ce-65df-42ec-8542-57d9c1b946cf\">\n",
              "  <button class=\"colab-df-quickchart\" onclick=\"quickchart('df-836448ce-65df-42ec-8542-57d9c1b946cf')\"\n",
              "            title=\"Suggest charts\"\n",
              "            style=\"display:none;\">\n",
              "\n",
              "<svg xmlns=\"http://www.w3.org/2000/svg\" height=\"24px\"viewBox=\"0 0 24 24\"\n",
              "     width=\"24px\">\n",
              "    <g>\n",
              "        <path d=\"M19 3H5c-1.1 0-2 .9-2 2v14c0 1.1.9 2 2 2h14c1.1 0 2-.9 2-2V5c0-1.1-.9-2-2-2zM9 17H7v-7h2v7zm4 0h-2V7h2v10zm4 0h-2v-4h2v4z\"/>\n",
              "    </g>\n",
              "</svg>\n",
              "  </button>\n",
              "\n",
              "<style>\n",
              "  .colab-df-quickchart {\n",
              "      --bg-color: #E8F0FE;\n",
              "      --fill-color: #1967D2;\n",
              "      --hover-bg-color: #E2EBFA;\n",
              "      --hover-fill-color: #174EA6;\n",
              "      --disabled-fill-color: #AAA;\n",
              "      --disabled-bg-color: #DDD;\n",
              "  }\n",
              "\n",
              "  [theme=dark] .colab-df-quickchart {\n",
              "      --bg-color: #3B4455;\n",
              "      --fill-color: #D2E3FC;\n",
              "      --hover-bg-color: #434B5C;\n",
              "      --hover-fill-color: #FFFFFF;\n",
              "      --disabled-bg-color: #3B4455;\n",
              "      --disabled-fill-color: #666;\n",
              "  }\n",
              "\n",
              "  .colab-df-quickchart {\n",
              "    background-color: var(--bg-color);\n",
              "    border: none;\n",
              "    border-radius: 50%;\n",
              "    cursor: pointer;\n",
              "    display: none;\n",
              "    fill: var(--fill-color);\n",
              "    height: 32px;\n",
              "    padding: 0;\n",
              "    width: 32px;\n",
              "  }\n",
              "\n",
              "  .colab-df-quickchart:hover {\n",
              "    background-color: var(--hover-bg-color);\n",
              "    box-shadow: 0 1px 2px rgba(60, 64, 67, 0.3), 0 1px 3px 1px rgba(60, 64, 67, 0.15);\n",
              "    fill: var(--button-hover-fill-color);\n",
              "  }\n",
              "\n",
              "  .colab-df-quickchart-complete:disabled,\n",
              "  .colab-df-quickchart-complete:disabled:hover {\n",
              "    background-color: var(--disabled-bg-color);\n",
              "    fill: var(--disabled-fill-color);\n",
              "    box-shadow: none;\n",
              "  }\n",
              "\n",
              "  .colab-df-spinner {\n",
              "    border: 2px solid var(--fill-color);\n",
              "    border-color: transparent;\n",
              "    border-bottom-color: var(--fill-color);\n",
              "    animation:\n",
              "      spin 1s steps(1) infinite;\n",
              "  }\n",
              "\n",
              "  @keyframes spin {\n",
              "    0% {\n",
              "      border-color: transparent;\n",
              "      border-bottom-color: var(--fill-color);\n",
              "      border-left-color: var(--fill-color);\n",
              "    }\n",
              "    20% {\n",
              "      border-color: transparent;\n",
              "      border-left-color: var(--fill-color);\n",
              "      border-top-color: var(--fill-color);\n",
              "    }\n",
              "    30% {\n",
              "      border-color: transparent;\n",
              "      border-left-color: var(--fill-color);\n",
              "      border-top-color: var(--fill-color);\n",
              "      border-right-color: var(--fill-color);\n",
              "    }\n",
              "    40% {\n",
              "      border-color: transparent;\n",
              "      border-right-color: var(--fill-color);\n",
              "      border-top-color: var(--fill-color);\n",
              "    }\n",
              "    60% {\n",
              "      border-color: transparent;\n",
              "      border-right-color: var(--fill-color);\n",
              "    }\n",
              "    80% {\n",
              "      border-color: transparent;\n",
              "      border-right-color: var(--fill-color);\n",
              "      border-bottom-color: var(--fill-color);\n",
              "    }\n",
              "    90% {\n",
              "      border-color: transparent;\n",
              "      border-bottom-color: var(--fill-color);\n",
              "    }\n",
              "  }\n",
              "</style>\n",
              "\n",
              "  <script>\n",
              "    async function quickchart(key) {\n",
              "      const quickchartButtonEl =\n",
              "        document.querySelector('#' + key + ' button');\n",
              "      quickchartButtonEl.disabled = true;  // To prevent multiple clicks.\n",
              "      quickchartButtonEl.classList.add('colab-df-spinner');\n",
              "      try {\n",
              "        const charts = await google.colab.kernel.invokeFunction(\n",
              "            'suggestCharts', [key], {});\n",
              "      } catch (error) {\n",
              "        console.error('Error during call to suggestCharts:', error);\n",
              "      }\n",
              "      quickchartButtonEl.classList.remove('colab-df-spinner');\n",
              "      quickchartButtonEl.classList.add('colab-df-quickchart-complete');\n",
              "    }\n",
              "    (() => {\n",
              "      let quickchartButtonEl =\n",
              "        document.querySelector('#df-836448ce-65df-42ec-8542-57d9c1b946cf button');\n",
              "      quickchartButtonEl.style.display =\n",
              "        google.colab.kernel.accessAllowed ? 'block' : 'none';\n",
              "    })();\n",
              "  </script>\n",
              "</div>\n",
              "\n",
              "    </div>\n",
              "  </div>\n"
            ]
          },
          "metadata": {},
          "execution_count": 103
        }
      ]
    },
    {
      "cell_type": "code",
      "source": [
        "df_movies = pd.read_csv('movies.csv')"
      ],
      "metadata": {
        "id": "MtiZsZrXpdAH"
      },
      "execution_count": 104,
      "outputs": []
    },
    {
      "cell_type": "code",
      "source": [
        "df_movies.head(3)"
      ],
      "metadata": {
        "colab": {
          "base_uri": "https://localhost:8080/",
          "height": 143
        },
        "id": "poniXr1fpg7R",
        "outputId": "38c0342a-7f4c-41ec-f88d-9c68a5eedcce"
      },
      "execution_count": 105,
      "outputs": [
        {
          "output_type": "execute_result",
          "data": {
            "text/plain": [
              "   movieId                    title  \\\n",
              "0        1         Toy Story (1995)   \n",
              "1        2           Jumanji (1995)   \n",
              "2        3  Grumpier Old Men (1995)   \n",
              "\n",
              "                                        genres  \n",
              "0  Adventure|Animation|Children|Comedy|Fantasy  \n",
              "1                   Adventure|Children|Fantasy  \n",
              "2                               Comedy|Romance  "
            ],
            "text/html": [
              "\n",
              "  <div id=\"df-c051f58e-35d4-4275-b6b7-22da330d38cd\" class=\"colab-df-container\">\n",
              "    <div>\n",
              "<style scoped>\n",
              "    .dataframe tbody tr th:only-of-type {\n",
              "        vertical-align: middle;\n",
              "    }\n",
              "\n",
              "    .dataframe tbody tr th {\n",
              "        vertical-align: top;\n",
              "    }\n",
              "\n",
              "    .dataframe thead th {\n",
              "        text-align: right;\n",
              "    }\n",
              "</style>\n",
              "<table border=\"1\" class=\"dataframe\">\n",
              "  <thead>\n",
              "    <tr style=\"text-align: right;\">\n",
              "      <th></th>\n",
              "      <th>movieId</th>\n",
              "      <th>title</th>\n",
              "      <th>genres</th>\n",
              "    </tr>\n",
              "  </thead>\n",
              "  <tbody>\n",
              "    <tr>\n",
              "      <th>0</th>\n",
              "      <td>1</td>\n",
              "      <td>Toy Story (1995)</td>\n",
              "      <td>Adventure|Animation|Children|Comedy|Fantasy</td>\n",
              "    </tr>\n",
              "    <tr>\n",
              "      <th>1</th>\n",
              "      <td>2</td>\n",
              "      <td>Jumanji (1995)</td>\n",
              "      <td>Adventure|Children|Fantasy</td>\n",
              "    </tr>\n",
              "    <tr>\n",
              "      <th>2</th>\n",
              "      <td>3</td>\n",
              "      <td>Grumpier Old Men (1995)</td>\n",
              "      <td>Comedy|Romance</td>\n",
              "    </tr>\n",
              "  </tbody>\n",
              "</table>\n",
              "</div>\n",
              "    <div class=\"colab-df-buttons\">\n",
              "\n",
              "  <div class=\"colab-df-container\">\n",
              "    <button class=\"colab-df-convert\" onclick=\"convertToInteractive('df-c051f58e-35d4-4275-b6b7-22da330d38cd')\"\n",
              "            title=\"Convert this dataframe to an interactive table.\"\n",
              "            style=\"display:none;\">\n",
              "\n",
              "  <svg xmlns=\"http://www.w3.org/2000/svg\" height=\"24px\" viewBox=\"0 -960 960 960\">\n",
              "    <path d=\"M120-120v-720h720v720H120Zm60-500h600v-160H180v160Zm220 220h160v-160H400v160Zm0 220h160v-160H400v160ZM180-400h160v-160H180v160Zm440 0h160v-160H620v160ZM180-180h160v-160H180v160Zm440 0h160v-160H620v160Z\"/>\n",
              "  </svg>\n",
              "    </button>\n",
              "\n",
              "  <style>\n",
              "    .colab-df-container {\n",
              "      display:flex;\n",
              "      gap: 12px;\n",
              "    }\n",
              "\n",
              "    .colab-df-convert {\n",
              "      background-color: #E8F0FE;\n",
              "      border: none;\n",
              "      border-radius: 50%;\n",
              "      cursor: pointer;\n",
              "      display: none;\n",
              "      fill: #1967D2;\n",
              "      height: 32px;\n",
              "      padding: 0 0 0 0;\n",
              "      width: 32px;\n",
              "    }\n",
              "\n",
              "    .colab-df-convert:hover {\n",
              "      background-color: #E2EBFA;\n",
              "      box-shadow: 0px 1px 2px rgba(60, 64, 67, 0.3), 0px 1px 3px 1px rgba(60, 64, 67, 0.15);\n",
              "      fill: #174EA6;\n",
              "    }\n",
              "\n",
              "    .colab-df-buttons div {\n",
              "      margin-bottom: 4px;\n",
              "    }\n",
              "\n",
              "    [theme=dark] .colab-df-convert {\n",
              "      background-color: #3B4455;\n",
              "      fill: #D2E3FC;\n",
              "    }\n",
              "\n",
              "    [theme=dark] .colab-df-convert:hover {\n",
              "      background-color: #434B5C;\n",
              "      box-shadow: 0px 1px 3px 1px rgba(0, 0, 0, 0.15);\n",
              "      filter: drop-shadow(0px 1px 2px rgba(0, 0, 0, 0.3));\n",
              "      fill: #FFFFFF;\n",
              "    }\n",
              "  </style>\n",
              "\n",
              "    <script>\n",
              "      const buttonEl =\n",
              "        document.querySelector('#df-c051f58e-35d4-4275-b6b7-22da330d38cd button.colab-df-convert');\n",
              "      buttonEl.style.display =\n",
              "        google.colab.kernel.accessAllowed ? 'block' : 'none';\n",
              "\n",
              "      async function convertToInteractive(key) {\n",
              "        const element = document.querySelector('#df-c051f58e-35d4-4275-b6b7-22da330d38cd');\n",
              "        const dataTable =\n",
              "          await google.colab.kernel.invokeFunction('convertToInteractive',\n",
              "                                                    [key], {});\n",
              "        if (!dataTable) return;\n",
              "\n",
              "        const docLinkHtml = 'Like what you see? Visit the ' +\n",
              "          '<a target=\"_blank\" href=https://colab.research.google.com/notebooks/data_table.ipynb>data table notebook</a>'\n",
              "          + ' to learn more about interactive tables.';\n",
              "        element.innerHTML = '';\n",
              "        dataTable['output_type'] = 'display_data';\n",
              "        await google.colab.output.renderOutput(dataTable, element);\n",
              "        const docLink = document.createElement('div');\n",
              "        docLink.innerHTML = docLinkHtml;\n",
              "        element.appendChild(docLink);\n",
              "      }\n",
              "    </script>\n",
              "  </div>\n",
              "\n",
              "\n",
              "<div id=\"df-19740924-bd56-418c-8399-c171dca43c91\">\n",
              "  <button class=\"colab-df-quickchart\" onclick=\"quickchart('df-19740924-bd56-418c-8399-c171dca43c91')\"\n",
              "            title=\"Suggest charts\"\n",
              "            style=\"display:none;\">\n",
              "\n",
              "<svg xmlns=\"http://www.w3.org/2000/svg\" height=\"24px\"viewBox=\"0 0 24 24\"\n",
              "     width=\"24px\">\n",
              "    <g>\n",
              "        <path d=\"M19 3H5c-1.1 0-2 .9-2 2v14c0 1.1.9 2 2 2h14c1.1 0 2-.9 2-2V5c0-1.1-.9-2-2-2zM9 17H7v-7h2v7zm4 0h-2V7h2v10zm4 0h-2v-4h2v4z\"/>\n",
              "    </g>\n",
              "</svg>\n",
              "  </button>\n",
              "\n",
              "<style>\n",
              "  .colab-df-quickchart {\n",
              "      --bg-color: #E8F0FE;\n",
              "      --fill-color: #1967D2;\n",
              "      --hover-bg-color: #E2EBFA;\n",
              "      --hover-fill-color: #174EA6;\n",
              "      --disabled-fill-color: #AAA;\n",
              "      --disabled-bg-color: #DDD;\n",
              "  }\n",
              "\n",
              "  [theme=dark] .colab-df-quickchart {\n",
              "      --bg-color: #3B4455;\n",
              "      --fill-color: #D2E3FC;\n",
              "      --hover-bg-color: #434B5C;\n",
              "      --hover-fill-color: #FFFFFF;\n",
              "      --disabled-bg-color: #3B4455;\n",
              "      --disabled-fill-color: #666;\n",
              "  }\n",
              "\n",
              "  .colab-df-quickchart {\n",
              "    background-color: var(--bg-color);\n",
              "    border: none;\n",
              "    border-radius: 50%;\n",
              "    cursor: pointer;\n",
              "    display: none;\n",
              "    fill: var(--fill-color);\n",
              "    height: 32px;\n",
              "    padding: 0;\n",
              "    width: 32px;\n",
              "  }\n",
              "\n",
              "  .colab-df-quickchart:hover {\n",
              "    background-color: var(--hover-bg-color);\n",
              "    box-shadow: 0 1px 2px rgba(60, 64, 67, 0.3), 0 1px 3px 1px rgba(60, 64, 67, 0.15);\n",
              "    fill: var(--button-hover-fill-color);\n",
              "  }\n",
              "\n",
              "  .colab-df-quickchart-complete:disabled,\n",
              "  .colab-df-quickchart-complete:disabled:hover {\n",
              "    background-color: var(--disabled-bg-color);\n",
              "    fill: var(--disabled-fill-color);\n",
              "    box-shadow: none;\n",
              "  }\n",
              "\n",
              "  .colab-df-spinner {\n",
              "    border: 2px solid var(--fill-color);\n",
              "    border-color: transparent;\n",
              "    border-bottom-color: var(--fill-color);\n",
              "    animation:\n",
              "      spin 1s steps(1) infinite;\n",
              "  }\n",
              "\n",
              "  @keyframes spin {\n",
              "    0% {\n",
              "      border-color: transparent;\n",
              "      border-bottom-color: var(--fill-color);\n",
              "      border-left-color: var(--fill-color);\n",
              "    }\n",
              "    20% {\n",
              "      border-color: transparent;\n",
              "      border-left-color: var(--fill-color);\n",
              "      border-top-color: var(--fill-color);\n",
              "    }\n",
              "    30% {\n",
              "      border-color: transparent;\n",
              "      border-left-color: var(--fill-color);\n",
              "      border-top-color: var(--fill-color);\n",
              "      border-right-color: var(--fill-color);\n",
              "    }\n",
              "    40% {\n",
              "      border-color: transparent;\n",
              "      border-right-color: var(--fill-color);\n",
              "      border-top-color: var(--fill-color);\n",
              "    }\n",
              "    60% {\n",
              "      border-color: transparent;\n",
              "      border-right-color: var(--fill-color);\n",
              "    }\n",
              "    80% {\n",
              "      border-color: transparent;\n",
              "      border-right-color: var(--fill-color);\n",
              "      border-bottom-color: var(--fill-color);\n",
              "    }\n",
              "    90% {\n",
              "      border-color: transparent;\n",
              "      border-bottom-color: var(--fill-color);\n",
              "    }\n",
              "  }\n",
              "</style>\n",
              "\n",
              "  <script>\n",
              "    async function quickchart(key) {\n",
              "      const quickchartButtonEl =\n",
              "        document.querySelector('#' + key + ' button');\n",
              "      quickchartButtonEl.disabled = true;  // To prevent multiple clicks.\n",
              "      quickchartButtonEl.classList.add('colab-df-spinner');\n",
              "      try {\n",
              "        const charts = await google.colab.kernel.invokeFunction(\n",
              "            'suggestCharts', [key], {});\n",
              "      } catch (error) {\n",
              "        console.error('Error during call to suggestCharts:', error);\n",
              "      }\n",
              "      quickchartButtonEl.classList.remove('colab-df-spinner');\n",
              "      quickchartButtonEl.classList.add('colab-df-quickchart-complete');\n",
              "    }\n",
              "    (() => {\n",
              "      let quickchartButtonEl =\n",
              "        document.querySelector('#df-19740924-bd56-418c-8399-c171dca43c91 button');\n",
              "      quickchartButtonEl.style.display =\n",
              "        google.colab.kernel.accessAllowed ? 'block' : 'none';\n",
              "    })();\n",
              "  </script>\n",
              "</div>\n",
              "\n",
              "    </div>\n",
              "  </div>\n"
            ]
          },
          "metadata": {},
          "execution_count": 105
        }
      ]
    },
    {
      "cell_type": "markdown",
      "source": [
        "# Movie Feature Processing"
      ],
      "metadata": {
        "id": "ZsEUjaTXtHV5"
      }
    },
    {
      "cell_type": "code",
      "source": [
        "# let's only work with movies with enough ratings.\n",
        "\n",
        "num_movies_to_keep = 500\n",
        "\n",
        "movieId_to_num_ratings = {}\n",
        "for movieId in df_ratings.movieId.unique().tolist():\n",
        "  movieId_to_num_ratings[movieId] = 0\n",
        "\n",
        "movieId_list = df_ratings.movieId.tolist()\n",
        "\n",
        "for i in range(len(movieId_list)):\n",
        "  movieId = movieId_list[i]\n",
        "  movieId_to_num_ratings[movieId] += 1\n",
        "\n",
        "top_movies = []\n",
        "for movieId, num_ratings in list(sorted(movieId_to_num_ratings.items(), key=lambda item: item[1], reverse=True))[0:num_movies_to_keep]:\n",
        "  top_movies.append(movieId)"
      ],
      "metadata": {
        "id": "P6HilTRKpiV3"
      },
      "execution_count": 106,
      "outputs": []
    },
    {
      "cell_type": "code",
      "source": [
        "# map movieId to title\n",
        "movieId_to_title = {}\n",
        "title_to_movieId = {}\n",
        "\n",
        "movieId_list = df_movies.movieId.tolist()\n",
        "title_list = df_movies.title.tolist()\n",
        "\n",
        "for i in range(len(movieId_list)):\n",
        "  movieId = movieId_list[i]\n",
        "  title = title_list[i]\n",
        "  if movieId not in top_movies:\n",
        "    continue\n",
        "\n",
        "  movieId_to_title[movieId] = title\n",
        "  title_to_movieId[title] = movieId"
      ],
      "metadata": {
        "id": "SkXt5NOPqFqI"
      },
      "execution_count": 107,
      "outputs": []
    },
    {
      "cell_type": "code",
      "source": [
        "# print the top movies\n",
        "for movieId in top_movies[0:10]:\n",
        "  print(movieId_to_title[movieId], movieId_to_num_ratings[movieId])"
      ],
      "metadata": {
        "colab": {
          "base_uri": "https://localhost:8080/"
        },
        "id": "s_CQZfpeqYJ8",
        "outputId": "877f3dc2-3e7e-477a-ce15-f8ed95948e68"
      },
      "execution_count": 108,
      "outputs": [
        {
          "output_type": "stream",
          "name": "stdout",
          "text": [
            "Shawshank Redemption, The (1994) 18091\n",
            "Forrest Gump (1994) 16889\n",
            "Pulp Fiction (1994) 16083\n",
            "Matrix, The (1999) 15903\n",
            "Silence of the Lambs, The (1991) 15120\n",
            "Star Wars: Episode IV - A New Hope (1977) 14496\n",
            "Fight Club (1999) 12803\n",
            "Schindler's List (1993) 12494\n",
            "Jurassic Park (1993) 12201\n",
            "Star Wars: Episode V - The Empire Strikes Back (1980) 12022\n"
          ]
        }
      ]
    },
    {
      "cell_type": "code",
      "source": [
        "# map movieId to list of genres for that movie\n",
        "genres = set()\n",
        "movieId_to_genres = {}\n",
        "\n",
        "movieId_list = df_movies.movieId.tolist()\n",
        "genre_list = df_movies.genres.tolist()\n",
        "\n",
        "for i in range(len(movieId_list)):\n",
        "  movieId = movieId_list[i]\n",
        "  if movieId not in top_movies:\n",
        "    continue\n",
        "\n",
        "  movieId_to_genres[movieId] = set()\n",
        "\n",
        "  for genre in genre_list[i].split('|'):\n",
        "    genres.add(genre)\n",
        "    movieId_to_genres[movieId].add(genre)"
      ],
      "metadata": {
        "id": "L-PkcA_pq67x"
      },
      "execution_count": 109,
      "outputs": []
    },
    {
      "cell_type": "code",
      "source": [
        "movieId_to_genres[title_to_movieId['Matrix, The (1999)']]"
      ],
      "metadata": {
        "colab": {
          "base_uri": "https://localhost:8080/"
        },
        "id": "5L0uRnlfrWAr",
        "outputId": "14fa4b82-f6d4-4d5e-ed39-8d3b55b8dbce"
      },
      "execution_count": 110,
      "outputs": [
        {
          "output_type": "execute_result",
          "data": {
            "text/plain": [
              "{'Action', 'Sci-Fi', 'Thriller'}"
            ]
          },
          "metadata": {},
          "execution_count": 110
        }
      ]
    },
    {
      "cell_type": "code",
      "source": [
        "# for every movie, get the avg rating\n",
        "\n",
        "movieId_to_ratings = {}\n",
        "for movieId in df_ratings.movieId.unique().tolist():\n",
        "  if movieId not in top_movies: continue\n",
        "  movieId_to_ratings[movieId] = []\n",
        "\n",
        "movieId_list = df_ratings.movieId.tolist()\n",
        "rating_list = df_ratings.rating.tolist()\n",
        "\n",
        "for i in range(len(movieId_list)):\n",
        "  movieId = movieId_list[i]\n",
        "  if movieId not in top_movies: continue\n",
        "\n",
        "  movieId_to_ratings[movieId].append(rating_list[i])\n",
        "\n",
        "movieId_to_avg_rating = {}\n",
        "for movieId in movieId_to_ratings.keys():\n",
        "  movieId_to_avg_rating[movieId] = np.mean(movieId_to_ratings[movieId])\n",
        "\n",
        "movieId_to_avg_rating_sorted = sorted(movieId_to_avg_rating.items(), key=lambda item: item[1], reverse=True)"
      ],
      "metadata": {
        "id": "hvSCBuv9lfSs"
      },
      "execution_count": 197,
      "outputs": []
    },
    {
      "cell_type": "code",
      "source": [
        "# for every genre, get the top movies that have that genre.\n",
        "# we will use this to make sure our user 'watch history' feature vector\n",
        "# has enough movies from every genre.\n",
        "genre_to_movie_to_num_ratings = {}\n",
        "for genre in genres:\n",
        "  genre_to_movie_to_num_ratings[genre] = {}\n",
        "\n",
        "for movieId in movieId_to_genres.keys():\n",
        "  for genre in movieId_to_genres[movieId]:\n",
        "    genre_to_movie_to_num_ratings[genre][movieId] = movieId_to_num_ratings[movieId]\n",
        "\n",
        "for genre in genre_to_movie_to_num_ratings.keys():\n",
        "  genre_to_movie_to_num_ratings[genre] = sorted(genre_to_movie_to_num_ratings[genre].items(), key=lambda item: item[1], reverse=True)\n",
        "\n",
        "genre_to_top_movies = {}\n",
        "for genre in genre_to_movie_to_num_ratings.keys():\n",
        "  genre_to_top_movies[genre] = []\n",
        "  for movieId,_ in genre_to_movie_to_num_ratings[genre]:\n",
        "    genre_to_top_movies[genre].append(movieId)"
      ],
      "metadata": {
        "id": "CKkHg1L2rfVl"
      },
      "execution_count": 111,
      "outputs": []
    },
    {
      "cell_type": "code",
      "source": [
        "# for the user watch history feature, let's use some movies from each genre\n",
        "num_movies_per_genre = 10\n",
        "user_context_movies = set()\n",
        "\n",
        "for genre in genre_to_top_movies.keys():\n",
        "  for movieId in genre_to_top_movies[genre][0:num_movies_per_genre]:\n",
        "    user_context_movies.add(movieId)\n",
        "\n",
        "len(genres), len(user_context_movies)"
      ],
      "metadata": {
        "colab": {
          "base_uri": "https://localhost:8080/"
        },
        "id": "lPxKEdC5scIg",
        "outputId": "cb35970f-09a4-4265-f486-b6c3e0ad9832"
      },
      "execution_count": 112,
      "outputs": [
        {
          "output_type": "execute_result",
          "data": {
            "text/plain": [
              "(19, 100)"
            ]
          },
          "metadata": {},
          "execution_count": 112
        }
      ]
    },
    {
      "cell_type": "code",
      "source": [
        "# build ITEM movieId embedding mapping\n",
        "item_emb_movieId_to_i = {s:i for i,s in enumerate(top_movies)}\n",
        "item_emb_i_to_movieId = {i:s for s,i in enumerate(item_emb_movieId_to_i.items())}"
      ],
      "metadata": {
        "id": "VlXL2NVrtag9"
      },
      "execution_count": 113,
      "outputs": []
    },
    {
      "cell_type": "code",
      "source": [
        "# build ITEM genre feature context\n",
        "genre_to_i = {s:i for i,s in enumerate(genres)}\n",
        "i_to_genre = {i:s for s,i in genre_to_i.items()}"
      ],
      "metadata": {
        "id": "rs8YTabXtp0H"
      },
      "execution_count": 114,
      "outputs": []
    },
    {
      "cell_type": "markdown",
      "source": [
        "# User Feature Processing"
      ],
      "metadata": {
        "id": "kiIp4GmVtKWR"
      }
    },
    {
      "cell_type": "code",
      "source": [
        "# for every user, get list of all movies they have watched (with rating)\n",
        "user_to_movie_to_rating = {}\n",
        "for userId in df_ratings.userId.unique().tolist():\n",
        "  user_to_movie_to_rating[userId] = {}\n",
        "\n",
        "userId_list = df_ratings.userId.tolist()\n",
        "movieId_list = df_ratings.movieId.tolist()\n",
        "rating_list = df_ratings.rating.tolist()\n",
        "\n",
        "for i in range(len(userId_list)):\n",
        "  userId = userId_list[i]\n",
        "  movieId = movieId_list[i]\n",
        "  rating = rating_list[i]\n",
        "\n",
        "  if movieId not in top_movies:\n",
        "    continue\n",
        "\n",
        "  user_to_movie_to_rating[userId][movieId] = rating"
      ],
      "metadata": {
        "id": "DU0RClmstCgA"
      },
      "execution_count": 115,
      "outputs": []
    },
    {
      "cell_type": "code",
      "source": [
        "# build the USER context\n",
        "user_context_size = len(user_context_movies) + len(genres)\n",
        "\n",
        "user_context_movieId_to_i = {s:i for i,s in enumerate(list(user_context_movies))}\n",
        "user_context_i_to_movieId = {i:s for s,i in enumerate(user_context_movieId_to_i.items())}\n",
        "\n",
        "user_context_genre_to_i = {s:i for i,s in enumerate(list(genres))}\n",
        "user_context_i_to_genre = {i:s for s,i in enumerate(user_context_genre_to_i.items())}"
      ],
      "metadata": {
        "id": "UUrl8Vzsu_h-"
      },
      "execution_count": 116,
      "outputs": []
    },
    {
      "cell_type": "markdown",
      "source": [
        "# Generate Training Examples"
      ],
      "metadata": {
        "id": "Fqs8Tf10v2qH"
      }
    },
    {
      "cell_type": "code",
      "source": [
        "# simulate training examples by masking out some of the user's watched movies from their context, and using them as labels.\n",
        "# we do not want the 'movie to predict' in their watch history, as we are trying to simulate the following:\n",
        "# given the user's watch history, what would they rate this new movie?\n",
        "# NOTE: this is not the same as a train/test split. This is just simulating how training examples would look like on a movie platform.\n",
        "\n",
        "percent_ratings_as_watch_history = 0.8\n",
        "\n",
        "user_to_movie_to_rating_WATCH_HISTORY = {}\n",
        "user_to_movie_to_rating_LABEL = {}\n",
        "\n",
        "for user in user_to_movie_to_rating.keys():\n",
        "  num_rated_movies = len(user_to_movie_to_rating[user])\n",
        "\n",
        "  # ignore users with few ratings\n",
        "  if num_rated_movies <= 2: continue\n",
        "\n",
        "  user_to_movie_to_rating_WATCH_HISTORY[user] = {}\n",
        "  user_to_movie_to_rating_LABEL[user] = {}\n",
        "\n",
        "  # shuffle the user's movies that they have watched\n",
        "  rated_movies = list(user_to_movie_to_rating[user].keys())\n",
        "  random.shuffle(rated_movies)\n",
        "\n",
        "  for movieId in rated_movies[:int(num_rated_movies * percent_ratings_as_watch_history)]:\n",
        "    user_to_movie_to_rating_WATCH_HISTORY[user][movieId] = user_to_movie_to_rating[user][movieId]\n",
        "  for movieId in rated_movies[int(num_rated_movies * percent_ratings_as_watch_history):]:\n",
        "    user_to_movie_to_rating_LABEL[user][movieId] = user_to_movie_to_rating[user][movieId]\n"
      ],
      "metadata": {
        "id": "tUE4C1gYvc79"
      },
      "execution_count": 117,
      "outputs": []
    },
    {
      "cell_type": "code",
      "source": [
        "# for every user, get their avg rating.\n",
        "# this will help us make the training example have information if the user liked or did not like this movie.\n",
        "user_to_avg_rating = {}\n",
        "\n",
        "# NOTE: only use ratings from their synthetic watch history.\n",
        "for user in user_to_movie_to_rating_WATCH_HISTORY.keys():\n",
        "  user_to_avg_rating[user] = 0\n",
        "  for movieId in user_to_movie_to_rating_WATCH_HISTORY[user].keys():\n",
        "    user_to_avg_rating[user] += user_to_movie_to_rating_WATCH_HISTORY[user][movieId]\n",
        "\n",
        "  user_to_avg_rating[user] /= len(user_to_movie_to_rating_WATCH_HISTORY[user].keys())"
      ],
      "metadata": {
        "id": "bOB_rm7Rxi_n"
      },
      "execution_count": 118,
      "outputs": []
    },
    {
      "cell_type": "code",
      "source": [
        "user_to_avg_rating[1]"
      ],
      "metadata": {
        "colab": {
          "base_uri": "https://localhost:8080/"
        },
        "id": "s-9pIqURyEWU",
        "outputId": "784a94da-db10-429d-d309-e4ed4eda5e88"
      },
      "execution_count": 119,
      "outputs": [
        {
          "output_type": "execute_result",
          "data": {
            "text/plain": [
              "4.1"
            ]
          },
          "metadata": {},
          "execution_count": 119
        }
      ]
    },
    {
      "cell_type": "code",
      "source": [
        "# for every user, get the avg rating for every genre\n",
        "user_to_genre_to_stat = {}\n",
        "\n",
        "# NOTE: only use ratings from their synthetic watch history.\n",
        "for user in user_to_movie_to_rating_WATCH_HISTORY.keys():\n",
        "  user_to_genre_to_stat[user] = {}\n",
        "  for movieId in user_to_movie_to_rating_WATCH_HISTORY[user].keys():\n",
        "    for genre in movieId_to_genres[movieId]:\n",
        "      if genre not in user_to_genre_to_stat[user]:\n",
        "        user_to_genre_to_stat[user][genre] = {\n",
        "            'NUM_RATINGS': 0,\n",
        "            'SUM_RATINGS': 0,\n",
        "        }\n",
        "\n",
        "      user_to_genre_to_stat[user][genre]['NUM_RATINGS'] += 1\n",
        "      user_to_genre_to_stat[user][genre]['SUM_RATINGS'] += user_to_movie_to_rating_WATCH_HISTORY[user][movieId]\n",
        "\n",
        "for user in user_to_genre_to_stat.keys():\n",
        "  for genre in user_to_genre_to_stat[user].keys():\n",
        "    num_ratings = user_to_genre_to_stat[user][genre]['NUM_RATINGS']\n",
        "    sum_ratings = user_to_genre_to_stat[user][genre]['SUM_RATINGS']\n",
        "    user_to_genre_to_stat[user][genre]['AVG_RATING'] = sum_ratings / num_ratings\n"
      ],
      "metadata": {
        "id": "qHc_u8YVyGUs"
      },
      "execution_count": 120,
      "outputs": []
    },
    {
      "cell_type": "code",
      "source": [
        "# for every user, create the training example user context vector\n",
        "# 0:num_user_context_movies -> user's watch history\n",
        "# num_user_context_movies:num_user_context_movies+num_genres -> user's genre affinity\n",
        "user_to_context = {}\n",
        "for user in user_to_movie_to_rating_WATCH_HISTORY.keys():\n",
        "  context = [0.0] * user_context_size\n",
        "\n",
        "  for movieId in user_to_movie_to_rating_WATCH_HISTORY[user].keys():\n",
        "    if movieId in user_context_movies:\n",
        "      # note, we debias the rating so if the rating is under the user's avg rating,\n",
        "      # it will hopefully count as negative strength for predicting similar movies.\n",
        "      # vice-versa for a rating above the user's average.\n",
        "      context[user_context_movieId_to_i[movieId]] = float(user_to_movie_to_rating_WATCH_HISTORY[user][movieId] - user_to_avg_rating[user])\n",
        "\n",
        "  for genre in user_to_genre_to_stat[user].keys():\n",
        "    context[user_context_genre_to_i[genre]] = float(user_to_genre_to_stat[user][genre]['AVG_RATING'] - user_to_avg_rating[user])\n",
        "\n",
        "  user_to_context[user] = context"
      ],
      "metadata": {
        "id": "582v8d0Sy91s"
      },
      "execution_count": 121,
      "outputs": []
    },
    {
      "cell_type": "code",
      "source": [
        "# for every movie, create a training example feature context vector for them\n",
        "# it will contain the movie's genres.\n",
        "movieId_to_context = {}\n",
        "for movieId in top_movies:\n",
        "  context = [0.0] * len(genres)\n",
        "\n",
        "  for genre in movieId_to_genres[movieId]:\n",
        "    context[genre_to_i[genre]] = float(1.0)\n",
        "\n",
        "  movieId_to_context[movieId] = context"
      ],
      "metadata": {
        "id": "gNLFC8wx0Gt2"
      },
      "execution_count": 122,
      "outputs": []
    },
    {
      "cell_type": "code",
      "source": [
        "# Build the final Dataset\n",
        "def build_dataset(users):\n",
        "  # the user context (i.e. the watch hisotyr and genre affinities)\n",
        "  X = []\n",
        "\n",
        "  # the movieID for the movie we will predict rating for.\n",
        "  # used to lookup the movie embedding to feed into the NN item tower.\n",
        "  target_movieId = []\n",
        "\n",
        "  # the feature context of the movie we will predict the rating for.\n",
        "  # will also feed into it's own embedding and will be stacked with the embedding above.\n",
        "  target_movieId_context = []\n",
        "\n",
        "  # the predicted rating\n",
        "  Y = []\n",
        "\n",
        "  # create training examples, one for each movie the user has that we want as a label.\n",
        "  for user in users:\n",
        "    for movieId in user_to_movie_to_rating_LABEL[user].keys():\n",
        "      X.append(user_to_context[user])\n",
        "\n",
        "      target_movieId.append(item_emb_movieId_to_i[movieId])\n",
        "\n",
        "      target_movieId_context.append(movieId_to_context[movieId])\n",
        "\n",
        "      # remember to debias the user rating so we can learn to predict if user\n",
        "      # like/dislike a movie based on their features and the movie features.\n",
        "      Y.append(float(user_to_movie_to_rating_LABEL[user][movieId] - user_to_avg_rating[user]))\n",
        "\n",
        "  X = torch.tensor(X)\n",
        "  Y = torch.tensor(Y)\n",
        "  target_movieId = torch.tensor(target_movieId)\n",
        "  target_movieId_context = torch.tensor(target_movieId_context)\n",
        "\n",
        "  return X,Y,target_movieId,target_movieId_context"
      ],
      "metadata": {
        "id": "TeZR-nqC0nyt"
      },
      "execution_count": 123,
      "outputs": []
    },
    {
      "cell_type": "code",
      "source": [
        "# user users with enough ratings to be useful for model learning.\n",
        "final_users = []\n",
        "\n",
        "for user in user_to_movie_to_rating.keys():\n",
        "  num_ratings = len(user_to_movie_to_rating[user])\n",
        "\n",
        "  if num_ratings > 10 and num_ratings < 500:\n",
        "    final_users.append(user)\n",
        "\n",
        "len(final_users)"
      ],
      "metadata": {
        "colab": {
          "base_uri": "https://localhost:8080/"
        },
        "id": "7UL41mDO2am8",
        "outputId": "d04b550a-cc04-49a6-a7c8-f260ecd74dcc"
      },
      "execution_count": 125,
      "outputs": [
        {
          "output_type": "execute_result",
          "data": {
            "text/plain": [
              "31579"
            ]
          },
          "metadata": {},
          "execution_count": 125
        }
      ]
    },
    {
      "cell_type": "code",
      "source": [
        "X,Y,target_movieId,target_movieId_context = build_dataset(final_users)"
      ],
      "metadata": {
        "id": "gOf31QdW2pIW"
      },
      "execution_count": 126,
      "outputs": []
    },
    {
      "cell_type": "code",
      "source": [
        "X.shape, Y.shape, target_movieId.shape, target_movieId_context.shape"
      ],
      "metadata": {
        "colab": {
          "base_uri": "https://localhost:8080/"
        },
        "id": "kUtSY4e32uLo",
        "outputId": "3a09e3c1-9e4f-4044-bc37-3a2903ffdb76"
      },
      "execution_count": 127,
      "outputs": [
        {
          "output_type": "execute_result",
          "data": {
            "text/plain": [
              "(torch.Size([432991, 119]),\n",
              " torch.Size([432991]),\n",
              " torch.Size([432991]),\n",
              " torch.Size([432991, 19]))"
            ]
          },
          "metadata": {},
          "execution_count": 127
        }
      ]
    },
    {
      "cell_type": "markdown",
      "source": [
        "# Build our Two Tower Model"
      ],
      "metadata": {
        "id": "3nE_-j5B3WVM"
      }
    },
    {
      "cell_type": "code",
      "source": [
        "g = torch.Generator().manual_seed(42)\n",
        "\n",
        "'''\n",
        "user_features -------------> u_W1\n",
        "                                  \\\n",
        "                                   \\\n",
        "                                    --> dot_product(user, item) --> prediction\n",
        "                                   /\n",
        "movie_features -> i_W1            /\n",
        "                      \\          /\n",
        "                       --> concat\n",
        "                      /\n",
        "movie_embedding_lookup\n",
        "'''\n",
        "\n",
        "# ITEM movie feature tower\n",
        "item_feature_embedding_size = 20\n",
        "i_W = torch.randn((len(genres), item_feature_embedding_size), generator=g)\n",
        "i_b = torch.randn(item_feature_embedding_size, generator=g)\n",
        "\n",
        "# ITEM movie embedding tower\n",
        "item_movieId_embedding_size = 20\n",
        "ITEM_EMBEDDING_LOOKUP = torch.rand((len(top_movies), item_movieId_embedding_size), generator=g)\n",
        "\n",
        "# USER feature tower\n",
        "user_feature_embedding_size = 40 # must be the concat dimension of both item embeddings.\n",
        "u_W1 = torch.randn((user_context_size, user_feature_embedding_size), generator=g)\n",
        "u_b1 = torch.randn(user_feature_embedding_size, generator=g)\n",
        "\n",
        "# create a list of all our TRAINABLE params\n",
        "parameters = [\n",
        "    i_W, i_b,\n",
        "    ITEM_EMBEDDING_LOOKUP,\n",
        "\n",
        "    u_W1, u_b1,\n",
        "]\n",
        "\n",
        "# normalize the initial weight values.\n",
        "weight_scale = 0.1\n",
        "for p in parameters:\n",
        "  p *= weight_scale\n",
        "\n",
        "# set all parameters to require gradients\n",
        "for p in parameters:\n",
        "  p.requires_grad = True\n",
        "\n",
        "# print number of trainable params in our NN\n",
        "print(sum(p.nelement() for p in parameters))\n",
        "\n",
        "# set the loss function we want to use.\n",
        "# we use MSE Loss because we are predicting the rating per label movie.\n",
        "loss = torch.nn.MSELoss()\n",
        "\n",
        "# set how big we want each minibatch to be\n",
        "minibatch_size = 64\n",
        "\n",
        "# create list to hold our loss per training iterations\n",
        "loss_i = []"
      ],
      "metadata": {
        "id": "dNnv_PmR3UpL",
        "colab": {
          "base_uri": "https://localhost:8080/"
        },
        "outputId": "df9f7219-2f4a-4798-8e7f-e8d6f0626842"
      },
      "execution_count": 259,
      "outputs": [
        {
          "output_type": "stream",
          "name": "stdout",
          "text": [
            "15200\n"
          ]
        }
      ]
    },
    {
      "cell_type": "markdown",
      "source": [
        "# Training Loop"
      ],
      "metadata": {
        "id": "9lNS2VzCbw_8"
      }
    },
    {
      "cell_type": "code",
      "source": [
        "for i in range(50_000):\n",
        "  # construct a minibatch\n",
        "  ix = torch.randint(0, X.shape[0], (minibatch_size,))\n",
        "\n",
        "  # every so often, let's train and compute loss on entire training set\n",
        "  if i % 1000 == 0:\n",
        "    ix = torch.randint(0, X.shape[0], (X.shape[0],))\n",
        "\n",
        "  # ---------- FORWARD PASS ----------\n",
        "\n",
        "  # forward the USER tower.\n",
        "  user_contexts = X[ix]\n",
        "  user_embedding = torch.tanh(user_contexts @ u_W1 + u_b1)\n",
        "\n",
        "  # forward the ITEM movie feature tower\n",
        "  movie_contexts = target_movieId_context[ix]\n",
        "  item_feature_embedding = torch.tanh(movie_contexts @ i_W + i_b)\n",
        "\n",
        "  # lookup the ITEM movieId embedding.\n",
        "  # NOTE: this is just a shortcut to multiplying a one-hot vector with the masked movieID with a weight matrix.\n",
        "  item_embedding = ITEM_EMBEDDING_LOOKUP[target_movieId[ix]]\n",
        "\n",
        "  # concat/stack the two ITEM embeddings together\n",
        "  item_embedding_combined = torch.cat((item_feature_embedding.view(item_feature_embedding.size(0), -1),\n",
        "                                       item_embedding.view(item_embedding.size(0), -1)), dim=1)\n",
        "\n",
        "  # the final prediction is the dot product of the user embedding and the combined item embedding.\n",
        "  # NOTE: because we have a batch of these, we will use torch.einsum to do this efficiently.\n",
        "  preds = torch.einsum('ij, ij -> i', user_embedding, item_embedding_combined)\n",
        "\n",
        "  # compute the loss of our predicted ratings\n",
        "  output = loss(preds, Y[ix])\n",
        "\n",
        "  # backpropogation\n",
        "  for p in parameters:\n",
        "    p.grad = None\n",
        "\n",
        "  output.backward()\n",
        "\n",
        "  # update weights using gradients * learning_rate\n",
        "  lr = 0.1\n",
        "  if i >= 10_000: lr = 0.01\n",
        "  if i >= 30_000: lr = 0.001\n",
        "  for p in parameters:\n",
        "    p.data += (lr * -p.grad)\n",
        "\n",
        "  # every so often, log the MSE loss on full training set (see above):\n",
        "  if i % 1000 == 0:\n",
        "    loss_i.append(output.item())\n",
        "    print(\"i: \", i, \" | \", \"loss: \", output.item())\n"
      ],
      "metadata": {
        "id": "SXvxgow1byhE"
      },
      "execution_count": null,
      "outputs": []
    },
    {
      "cell_type": "code",
      "source": [
        "plt.plot([i for i in range(len(loss_i))], loss_i)"
      ],
      "metadata": {
        "colab": {
          "base_uri": "https://localhost:8080/",
          "height": 447
        },
        "id": "P8xcagsxeZf_",
        "outputId": "616cadb5-a41d-438e-e837-86bad4d6e304"
      },
      "execution_count": 261,
      "outputs": [
        {
          "output_type": "execute_result",
          "data": {
            "text/plain": [
              "[<matplotlib.lines.Line2D at 0x7a8f6d6ac3a0>]"
            ]
          },
          "metadata": {},
          "execution_count": 261
        },
        {
          "output_type": "display_data",
          "data": {
            "text/plain": [
              "<Figure size 640x480 with 1 Axes>"
            ],
            "image/png": "[encoded data removed]"
          },
          "metadata": {}
        }
      ]
    },
    {
      "cell_type": "code",
      "source": [],
      "metadata": {
        "id": "uxYFiwg5evS8"
      },
      "execution_count": null,
      "outputs": []
    },
    {
      "cell_type": "markdown",
      "source": [
        "# Actually Using the Model"
      ],
      "metadata": {
        "id": "6F1xNlzXe4gi"
      }
    },
    {
      "cell_type": "code",
      "source": [
        "# for every movie, save all its embeddings\n",
        "movieId_to_embedding = {}\n",
        "\n",
        "for movieId in top_movies:\n",
        "  movieId_to_embedding[movieId] = {}\n",
        "\n",
        "  movieId_to_embedding[movieId]['MOVIEID_EMBEDDING'] = ITEM_EMBEDDING_LOOKUP[torch.tensor([item_emb_movieId_to_i[movieId]])]\n",
        "  movieId_to_embedding[movieId]['MOVIE_FEATURE_EMBEDDING'] = torch.tanh(torch.tensor([movieId_to_context[movieId]]) @ i_W + i_b)\n",
        "\n",
        "  # compute the combined (concat) item/movie embedding\n",
        "  item_id_emb = movieId_to_embedding[movieId]['MOVIEID_EMBEDDING']\n",
        "  item_feature_emb = movieId_to_embedding[movieId]['MOVIE_FEATURE_EMBEDDING']\n",
        "  movieId_to_embedding[movieId]['MOVIE_EMBEDDING_COMBINED'] = torch.cat((item_feature_emb.view(item_feature_emb.size(0), -1),\n",
        "                                       item_id_emb.view(item_id_emb.size(0), -1)), dim=1)"
      ],
      "metadata": {
        "id": "TJsFMEk8e6SZ"
      },
      "execution_count": 262,
      "outputs": []
    },
    {
      "cell_type": "code",
      "source": [
        "for emb_type in movieId_to_embedding[5952].keys():\n",
        "  print(movieId_to_embedding[5952][emb_type].shape)"
      ],
      "metadata": {
        "colab": {
          "base_uri": "https://localhost:8080/"
        },
        "id": "yVd99qEGfOwh",
        "outputId": "a17a6555-217c-451b-e4d2-2604e32a0bd2"
      },
      "execution_count": 263,
      "outputs": [
        {
          "output_type": "stream",
          "name": "stdout",
          "text": [
            "torch.Size([1, 20])\n",
            "torch.Size([1, 20])\n",
            "torch.Size([1, 40])\n"
          ]
        }
      ]
    },
    {
      "cell_type": "code",
      "source": [
        "# for every movie, and for every embedding type, find the similary to all other embeddings\n",
        "# NOTE: can be slow\n",
        "movieId_to_emb_type_to_similarities = {}\n",
        "\n",
        "for movieId in top_movies:\n",
        "  movieId_to_emb_type_to_similarities[movieId] = {}\n",
        "\n",
        "  for emb_type in movieId_to_embedding[movieId].keys():\n",
        "    emb_to_target_to_dist = {}\n",
        "    for target_id in top_movies:\n",
        "      src = movieId_to_embedding[movieId][emb_type].view(-1)\n",
        "      target = movieId_to_embedding[target_id][emb_type].view(-1)\n",
        "\n",
        "      distance = torch.sqrt(torch.sum(torch.pow(torch.subtract(src, target), 2), dim=0))\n",
        "      emb_to_target_to_dist[target_id] = distance\n",
        "    movieId_to_emb_type_to_similarities[movieId][emb_type] = sorted(emb_to_target_to_dist.items(), key=lambda item: item[1])"
      ],
      "metadata": {
        "id": "Tbu2Y9rggFaY"
      },
      "execution_count": 264,
      "outputs": []
    },
    {
      "cell_type": "markdown",
      "source": [
        "### Finding Most Similar Movies"
      ],
      "metadata": {
        "id": "tDjCGr5Lhu-K"
      }
    },
    {
      "cell_type": "code",
      "source": [
        "title_substring = 'Lord of'\n",
        "# title_substring = 'Rata'\n",
        "# title_substring = 'Star War'\n",
        "# title_substring = 'Harry'\n",
        "\n",
        "emb_type = 'MOVIEID_EMBEDDING'\n",
        "emb_type = 'MOVIE_FEATURE_EMBEDDING'\n",
        "emb_type = 'MOVIE_EMBEDDING_COMBINED'\n",
        "\n",
        "# Print the top ten most similar movies (for all movies with the substring in title)\n",
        "for movieId in top_movies:\n",
        "  if title_substring not in movieId_to_title[movieId]: continue\n",
        "\n",
        "  for target_id, dist in movieId_to_emb_type_to_similarities[movieId][emb_type][0:10]:\n",
        "    print(movieId_to_title[target_id], dist)\n",
        "  print()"
      ],
      "metadata": {
        "colab": {
          "base_uri": "https://localhost:8080/"
        },
        "id": "CpPb5tqphOB-",
        "outputId": "9a2756dd-fcfe-4de4-a375-1645c59d0a4f"
      },
      "execution_count": 265,
      "outputs": [
        {
          "output_type": "stream",
          "name": "stdout",
          "text": [
            "Lord of the Rings: The Fellowship of the Ring, The (2001) tensor(0., grad_fn=<SqrtBackward0>)\n",
            "Lord of the Rings: The Return of the King, The (2003) tensor(0.5718, grad_fn=<SqrtBackward0>)\n",
            "Lord of the Rings: The Two Towers, The (2002) tensor(0.6355, grad_fn=<SqrtBackward0>)\n",
            "Pirates of the Caribbean: The Curse of the Black Pearl (2003) tensor(0.9768, grad_fn=<SqrtBackward0>)\n",
            "Hobbit: An Unexpected Journey, The (2012) tensor(0.9773, grad_fn=<SqrtBackward0>)\n",
            "Gladiator (2000) tensor(0.9777, grad_fn=<SqrtBackward0>)\n",
            "Indiana Jones and the Last Crusade (1989) tensor(0.9902, grad_fn=<SqrtBackward0>)\n",
            "Harry Potter and the Prisoner of Azkaban (2004) tensor(0.9984, grad_fn=<SqrtBackward0>)\n",
            "The Martian (2015) tensor(1.0127, grad_fn=<SqrtBackward0>)\n",
            "Illusionist, The (2006) tensor(1.0217, grad_fn=<SqrtBackward0>)\n",
            "\n",
            "Lord of the Rings: The Return of the King, The (2003) tensor(0., grad_fn=<SqrtBackward0>)\n",
            "Lord of the Rings: The Fellowship of the Ring, The (2001) tensor(0.5718, grad_fn=<SqrtBackward0>)\n",
            "Lord of the Rings: The Two Towers, The (2002) tensor(0.6125, grad_fn=<SqrtBackward0>)\n",
            "Gladiator (2000) tensor(0.8949, grad_fn=<SqrtBackward0>)\n",
            "Pirates of the Caribbean: The Curse of the Black Pearl (2003) tensor(0.9237, grad_fn=<SqrtBackward0>)\n",
            "Star Wars: Episode III - Revenge of the Sith (2005) tensor(0.9579, grad_fn=<SqrtBackward0>)\n",
            "Indiana Jones and the Last Crusade (1989) tensor(0.9614, grad_fn=<SqrtBackward0>)\n",
            "Last Samurai, The (2003) tensor(0.9759, grad_fn=<SqrtBackward0>)\n",
            "Hobbit: An Unexpected Journey, The (2012) tensor(0.9783, grad_fn=<SqrtBackward0>)\n",
            "X-Men (2000) tensor(0.9918, grad_fn=<SqrtBackward0>)\n",
            "\n",
            "Lord of the Rings: The Two Towers, The (2002) tensor(0., grad_fn=<SqrtBackward0>)\n",
            "Lord of the Rings: The Return of the King, The (2003) tensor(0.6125, grad_fn=<SqrtBackward0>)\n",
            "Lord of the Rings: The Fellowship of the Ring, The (2001) tensor(0.6355, grad_fn=<SqrtBackward0>)\n",
            "Hobbit: An Unexpected Journey, The (2012) tensor(0.8619, grad_fn=<SqrtBackward0>)\n",
            "Harry Potter and the Chamber of Secrets (2002) tensor(0.9150, grad_fn=<SqrtBackward0>)\n",
            "Pirates of the Caribbean: The Curse of the Black Pearl (2003) tensor(0.9433, grad_fn=<SqrtBackward0>)\n",
            "Harry Potter and the Prisoner of Azkaban (2004) tensor(0.9600, grad_fn=<SqrtBackward0>)\n",
            "Pirates of the Caribbean: Dead Man's Chest (2006) tensor(0.9682, grad_fn=<SqrtBackward0>)\n",
            "Illusionist, The (2006) tensor(0.9726, grad_fn=<SqrtBackward0>)\n",
            "Harry Potter and the Goblet of Fire (2005) tensor(0.9754, grad_fn=<SqrtBackward0>)\n",
            "\n"
          ]
        }
      ]
    },
    {
      "cell_type": "markdown",
      "source": [
        "### Get Recommendations for NEW USER"
      ],
      "metadata": {
        "id": "E_R-dQXejBDY"
      }
    },
    {
      "cell_type": "code",
      "source": [
        "inference_user_context = [0.0] * user_context_size\n",
        "\n",
        "# set genres the user likes or dislikes.\n",
        "for genre in ['Fantasy']:\n",
        "  inference_user_context[user_context_genre_to_i[genre]] = float(1.0)\n",
        "\n",
        "# set movies the user likes or dislikes.\n",
        "# liked_movie_title_substrings = ['Lord of']\n",
        "# liked_movie_title_substrings = ['Finding', 'Up']\n",
        "liked_movie_title_substrings = ['Lord of']\n",
        "for movieId in user_context_movies:\n",
        "  title = movieId_to_title[movieId]\n",
        "  for title_substring in liked_movie_title_substrings:\n",
        "    if title_substring in title:\n",
        "      print(\"Adding movie: \", title)\n",
        "      inference_user_context[user_context_movieId_to_i[movieId]] = float(1.0)\n"
      ],
      "metadata": {
        "colab": {
          "base_uri": "https://localhost:8080/"
        },
        "id": "ukMIw_w0iLy_",
        "outputId": "8d3d6f63-4197-4cc6-ac7b-5d094b7b3607"
      },
      "execution_count": 270,
      "outputs": [
        {
          "output_type": "stream",
          "name": "stdout",
          "text": [
            "Adding movie:  Lord of the Rings: The Two Towers, The (2002)\n",
            "Adding movie:  Lord of the Rings: The Fellowship of the Ring, The (2001)\n",
            "Adding movie:  Lord of the Rings: The Return of the King, The (2003)\n"
          ]
        }
      ]
    },
    {
      "cell_type": "code",
      "source": [
        "X_inference = torch.tensor([inference_user_context])\n",
        "user_embedding_inference = torch.tanh(X_inference @ u_W1 + u_b1)\n",
        "\n",
        "movieId_to_pred_score = {}\n",
        "for movieId in top_movies:\n",
        "  # we already have the combined item embedding for every movie to make inference easier.\n",
        "  item_embedding_combined_inference = movieId_to_embedding[movieId]['MOVIE_EMBEDDING_COMBINED']\n",
        "  movieId_to_pred_score[movieId] = torch.einsum('ij, ij -> i', user_embedding_inference, item_embedding_combined_inference).item()\n",
        "\n",
        "for movieId, pred_score in list(sorted(movieId_to_pred_score.items(), key=lambda item: item[1], reverse=True))[:10]:\n",
        "  print(movieId_to_title[movieId], pred_score)"
      ],
      "metadata": {
        "colab": {
          "base_uri": "https://localhost:8080/"
        },
        "id": "SaWKq6kvjUr6",
        "outputId": "4b8ed670-80ef-471c-a41e-76277a5e4998"
      },
      "execution_count": 271,
      "outputs": [
        {
          "output_type": "stream",
          "name": "stdout",
          "text": [
            "Lord of the Rings: The Return of the King, The (2003) 1.5658529996871948\n",
            "Lord of the Rings: The Fellowship of the Ring, The (2001) 1.5416498184204102\n",
            "Lord of the Rings: The Two Towers, The (2002) 1.5191893577575684\n",
            "Spirited Away (Sen to Chihiro no kamikakushi) (2001) 0.5502991676330566\n",
            "Princess Mononoke (Mononoke-hime) (1997) 0.410987913608551\n",
            "Matrix, The (1999) 0.38917630910873413\n",
            "Harry Potter and the Goblet of Fire (2005) 0.38645994663238525\n",
            "Harry Potter and the Prisoner of Azkaban (2004) 0.38464879989624023\n",
            "Howl's Moving Castle (Hauru no ugoku shiro) (2004) 0.3739607036113739\n",
            "Pirates of the Caribbean: The Curse of the Black Pearl (2003) 0.3645719289779663\n"
          ]
        }
      ]
    },
    {
      "cell_type": "code",
      "source": [
        "# sanity check - make sure we aren't just recommending the higest rated movies\n",
        "# NOTE: this is an extremely common problem in rec systems as the model learns\n",
        "# to play it safe and just recommend what almost is highly rated.\n",
        "for movieId, avg_rating in movieId_to_avg_rating_sorted[0:10]:\n",
        "  print(movieId_to_title[movieId], avg_rating)"
      ],
      "metadata": {
        "colab": {
          "base_uri": "https://localhost:8080/"
        },
        "id": "f_IgQlt4kEPp",
        "outputId": "414aaecc-83ee-40cd-9829-47e6b01e1417"
      },
      "execution_count": 198,
      "outputs": [
        {
          "output_type": "stream",
          "name": "stdout",
          "text": [
            "Shawshank Redemption, The (1994) 4.416892377425239\n",
            "Godfather, The (1972) 4.319259791591808\n",
            "Godfather: Part II, The (1974) 4.262827822120866\n",
            "Usual Suspects, The (1995) 4.25674801257164\n",
            "12 Angry Men (1957) 4.254069767441861\n",
            "Seven Samurai (Shichinin no samurai) (1954) 4.244835501147667\n",
            "Fight Club (1999) 4.239006482855581\n",
            "Schindler's List (1993) 4.226748839442933\n",
            "One Flew Over the Cuckoo's Nest (1975) 4.204533189422558\n",
            "Rear Window (1954) 4.19997421351212\n"
          ]
        }
      ]
    },
    {
      "cell_type": "code",
      "source": [],
      "metadata": {
        "id": "J0WIjgfJs3AL"
      },
      "execution_count": null,
      "outputs": []
    }
  ]
}