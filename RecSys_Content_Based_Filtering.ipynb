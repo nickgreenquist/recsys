{
  "nbformat": 4,
  "nbformat_minor": 0,
  "metadata": {
    "colab": {
      "provenance": [],
      "gpuType": "T4",
      "authorship_tag": "ABX9TyNwV90K1krg3Pk4KMZBUfr7",
      "include_colab_link": true
    },
    "kernelspec": {
      "name": "python3",
      "display_name": "Python 3"
    },
    "language_info": {
      "name": "python"
    },
    "accelerator": "GPU"
  },
  "cells": [
    {
      "cell_type": "markdown",
      "metadata": {
        "id": "view-in-github",
        "colab_type": "text"
      },
      "source": [
        "<a href=\"https://colab.research.google.com/github/nickgreenquist/recsys/blob/main/RecSys_Content_Based_Filtering.ipynb\" target=\"_parent\"><img src=\"https://colab.research.google.com/assets/colab-badge.svg\" alt=\"Open In Colab\"/></a>"
      ]
    },
    {
      "cell_type": "code",
      "execution_count": 2,
      "metadata": {
        "id": "qG1snDgCWVZ1"
      },
      "outputs": [],
      "source": [
        "import numpy as np\n",
        "import numpy.ma as ma\n",
        "from numpy import genfromtxt\n",
        "from collections import defaultdict\n",
        "import pandas as pd\n",
        "import tensorflow as tf\n",
        "from tensorflow import keras\n",
        "from sklearn.preprocessing import StandardScaler, MinMaxScaler\n",
        "from sklearn.model_selection import train_test_split\n",
        "import tabulate\n",
        "pd.set_option(\"display.precision\", 1)"
      ]
    },
    {
      "cell_type": "code",
      "source": [
        "import argparse\n",
        "import pathlib\n",
        "import tempfile\n",
        "from zipfile import ZipFile\n",
        "\n",
        "import requests\n",
        "import os\n",
        "\n",
        "MOVIELENS_URLS = {\n",
        "    'latest': \"http://files.grouplens.org/datasets/movielens/ml-latest.zip\",\n",
        "    'latest-small': \"http://files.grouplens.org/datasets/movielens/ml-latest-small.zip\"\n",
        "}"
      ],
      "metadata": {
        "id": "YndyGkTXXeP4"
      },
      "execution_count": 3,
      "outputs": []
    },
    {
      "cell_type": "code",
      "source": [
        "# @title Download Movielens\n",
        "def download_movielens(\n",
        "        dest='movielens',\n",
        "        package='latest-small',\n",
        "        mkdir=True,\n",
        "        verbose=False,\n",
        "    ):\n",
        "    url = MOVIELENS_URLS.get(package)\n",
        "    if not url:\n",
        "        raise Exception(f\"Movie lens package: {package} was not found.\")\n",
        "    if verbose is True:\n",
        "        print(f\"Downloading from {url}\")\n",
        "    output_dir = pathlib.Path(dest).resolve()\n",
        "    if not output_dir.exists():\n",
        "        if mkdir:\n",
        "            output_dir.mkdir(exist_ok=True)\n",
        "        else:\n",
        "            raise Exception(f\"{output_dir} does not exist. Pass `mkdir=True`\")\n",
        "    with requests.get(url, stream=True) as r:\n",
        "        r.raise_for_status()\n",
        "        total_size_in_bytes= int(r.headers.get('content-length', 0))\n",
        "        with tempfile.NamedTemporaryFile(mode='rb+') as temp_f:\n",
        "            downloaded = 0\n",
        "            dl_iteration = 0\n",
        "            chunk_size = 8192\n",
        "            total_chunks = total_size_in_bytes / chunk_size if total_size_in_bytes else 100\n",
        "            for chunk in r.iter_content(chunk_size=chunk_size):\n",
        "                if verbose is True:\n",
        "                    downloaded += chunk_size\n",
        "                    dl_iteration += 1\n",
        "                    percent = (100 * dl_iteration * 1.0/total_chunks)\n",
        "                    if dl_iteration % 10 == 0 and percent < 100:\n",
        "                        print(f'Completed {percent:2f}%')\n",
        "                    elif percent >= 99.9:\n",
        "                        print(f'Download completed. Now unzipping...')\n",
        "                temp_f.write(chunk)\n",
        "            with ZipFile(temp_f, 'r') as zipf:\n",
        "                zipf.extractall(output_dir)\n",
        "                if verbose is True:\n",
        "                    print(f\"\\n\\nUnzipped.\\n\\nFiles downloaded and unziped to:\\n\\n{pathlib.Path(dest).resolve()}\")"
      ],
      "metadata": {
        "cellView": "form",
        "id": "LluFk6xpXfXR"
      },
      "execution_count": 4,
      "outputs": []
    },
    {
      "cell_type": "code",
      "source": [
        "download_movielens(\n",
        "    \"movielens\",\n",
        "    mkdir=True,\n",
        "    package='latest-small',\n",
        "    verbose=True\n",
        "    )"
      ],
      "metadata": {
        "id": "7cpIW89uWnPO",
        "colab": {
          "base_uri": "https://localhost:8080/"
        },
        "outputId": "df1ed5b7-0c6b-412c-e862-91893cc5b547"
      },
      "execution_count": 5,
      "outputs": [
        {
          "output_type": "stream",
          "name": "stdout",
          "text": [
            "Downloading from http://files.grouplens.org/datasets/movielens/ml-latest-small.zip\n",
            "Completed 8.374548%\n",
            "Completed 16.749097%\n",
            "Completed 25.123645%\n",
            "Completed 33.498194%\n",
            "Completed 41.872742%\n",
            "Completed 50.247290%\n",
            "Completed 58.621839%\n",
            "Completed 66.996387%\n",
            "Completed 75.370936%\n",
            "Completed 83.745484%\n",
            "Completed 92.120032%\n",
            "Download completed. Now unzipping...\n",
            "\n",
            "\n",
            "Unzipped.\n",
            "\n",
            "Files downloaded and unziped to:\n",
            "\n",
            "/content/movielens\n"
          ]
        }
      ]
    },
    {
      "cell_type": "code",
      "source": [
        "os.listdir('movielens/ml-latest-small')"
      ],
      "metadata": {
        "colab": {
          "base_uri": "https://localhost:8080/"
        },
        "id": "A59BxDnoX7VQ",
        "outputId": "f1ebe642-08de-4592-f6da-4ba73dae9c21"
      },
      "execution_count": 6,
      "outputs": [
        {
          "output_type": "execute_result",
          "data": {
            "text/plain": [
              "['movies.csv', 'README.txt', 'tags.csv', 'ratings.csv', 'links.csv']"
            ]
          },
          "metadata": {},
          "execution_count": 6
        }
      ]
    },
    {
      "cell_type": "code",
      "source": [
        "ratings_df = pd.read_csv('movielens/ml-latest-small/ratings.csv')\n",
        "movies_df = pd.read_csv('movielens/ml-latest-small/movies.csv')"
      ],
      "metadata": {
        "id": "WcG-9xiXYxQy"
      },
      "execution_count": 7,
      "outputs": []
    },
    {
      "cell_type": "markdown",
      "source": [
        "# CREATE DATASET"
      ],
      "metadata": {
        "id": "pojm1Rf-rr1J"
      }
    },
    {
      "cell_type": "code",
      "source": [
        "def munge_title(title):\n",
        "    i = title.rfind(' (')\n",
        "    if i != -1:\n",
        "        title = title[:i]\n",
        "    for suff_word in ['The', 'A', 'An']:\n",
        "        suffix = ', {}'.format(suff_word)\n",
        "        if title.endswith(suffix):\n",
        "            title = suff_word + ' ' + title[:-len(suffix)]\n",
        "    return title\n",
        "\n",
        "def get_year(title):\n",
        "    l = title.rfind('(') + 1\n",
        "    try:\n",
        "        return int(title[l:l+4])\n",
        "    except ValueError:\n",
        "        print(title, end='\\t')\n",
        "        return 0\n",
        "\n",
        "def get_genre_set(genres):\n",
        "  return set(genres.split('|'))"
      ],
      "metadata": {
        "id": "T7i9oLLCeez8"
      },
      "execution_count": 8,
      "outputs": []
    },
    {
      "cell_type": "code",
      "source": [
        "# create lookups for MOVIE metadata\n",
        "\n",
        "all_genres = set()\n",
        "all_genres_sorted = []\n",
        "\n",
        "movie_to_title = {}\n",
        "movie_to_year = {}\n",
        "movie_to_genres = {}\n",
        "\n",
        "movie_ids = movies_df.movieId.tolist()\n",
        "titles = movies_df.title.tolist()\n",
        "genres = movies_df.genres.tolist()\n",
        "\n",
        "for i in range(len(movie_ids)):\n",
        "  id = movie_ids[i]\n",
        "  title = titles[i]\n",
        "\n",
        "  movie_to_title[id] = munge_title(title)\n",
        "  movie_to_year[id] = get_year(title)\n",
        "  movie_to_genres[id] = set(genres[i].split('|'))\n",
        "\n",
        "  all_genres.update(movie_to_genres[id])\n",
        "\n",
        "all_genres_sorted = sorted(list(all_genres))"
      ],
      "metadata": {
        "colab": {
          "base_uri": "https://localhost:8080/"
        },
        "id": "KCVwKmVDZqSY",
        "outputId": "5645a151-634f-4e49-aa82-3fa36837ae9b"
      },
      "execution_count": 9,
      "outputs": [
        {
          "output_type": "stream",
          "name": "stdout",
          "text": [
            "Babylon 5\tReady Player One\tHyena Road\tThe Adventures of Sherlock Holmes and Doctor Watson\tNocturnal Animals\tPaterson\tMoonlight\tThe OA\tCosmos\tMaria Bamford: Old Baby\tGeneration Iron 2\tBlack Mirror\t"
          ]
        }
      ]
    },
    {
      "cell_type": "code",
      "source": [
        "movie_to_num_users = {}\n",
        "movie_to_avg_rating = {}\n",
        "\n",
        "movie_ids = ratings_df.movieId.tolist()\n",
        "ratings = ratings_df.rating.tolist()\n",
        "\n",
        "for i in range(len(movie_ids)):\n",
        "  id = movie_ids[i]\n",
        "\n",
        "  if id not in movie_to_num_users: movie_to_num_users[id] = 0\n",
        "  if id not in movie_to_avg_rating: movie_to_avg_rating[id] = 0\n",
        "\n",
        "  movie_to_num_users[id] += 1\n",
        "  movie_to_avg_rating[id] += ratings[i]\n",
        "\n",
        "for id in movie_to_avg_rating.keys():\n",
        "  movie_to_avg_rating[id] /= movie_to_num_users[id]"
      ],
      "metadata": {
        "id": "y_FhEgi7eCs4"
      },
      "execution_count": 10,
      "outputs": []
    },
    {
      "cell_type": "code",
      "source": [
        "# create lookup for USER metadata\n",
        "\n",
        "user_to_num_ratings = {}\n",
        "user_to_avg_rating = {}\n",
        "user_to_genre_num_ratings = {}\n",
        "user_to_genre_to_avg_rating = {}\n",
        "\n",
        "user_ids = ratings_df.userId.tolist()\n",
        "ratings = ratings_df.rating.tolist()\n",
        "movie_ids = ratings_df.movieId.tolist()\n",
        "\n",
        "for i in range(len(user_ids)):\n",
        "  user_id = user_ids[i]\n",
        "  movie_id = movie_ids[i]\n",
        "  rating = ratings[i]\n",
        "\n",
        "  if user_id not in user_to_num_ratings: user_to_num_ratings[user_id] = 0\n",
        "  if user_id not in user_to_avg_rating: user_to_avg_rating[user_id] = 0\n",
        "  if user_id not in user_to_genre_num_ratings: user_to_genre_num_ratings[user_id] = {}\n",
        "  if user_id not in user_to_genre_to_avg_rating: user_to_genre_to_avg_rating[user_id] = {}\n",
        "\n",
        "  user_to_num_ratings[user_id] += 1\n",
        "  user_to_avg_rating[user_id] += rating\n",
        "\n",
        "  if movie_id in movie_to_genres:\n",
        "    for genre in movie_to_genres[movie_id]:\n",
        "      if genre not in user_to_genre_num_ratings[user_id]: user_to_genre_num_ratings[user_id][genre] = 0\n",
        "      if genre not in user_to_genre_to_avg_rating[user_id]: user_to_genre_to_avg_rating[user_id][genre] = 0\n",
        "\n",
        "      user_to_genre_num_ratings[user_id][genre] += 1\n",
        "      user_to_genre_to_avg_rating[user_id][genre] += rating\n",
        "\n",
        "for id in user_to_avg_rating.keys():\n",
        "  user_to_avg_rating[id] /= user_to_num_ratings[id]\n",
        "\n",
        "for id in user_to_genre_to_avg_rating.keys():\n",
        "  for genre in user_to_genre_to_avg_rating[id].keys():\n",
        "    user_to_genre_to_avg_rating[id][genre] /= user_to_genre_num_ratings[id][genre]"
      ],
      "metadata": {
        "id": "WDCxCdTcgYqP"
      },
      "execution_count": 11,
      "outputs": []
    },
    {
      "cell_type": "code",
      "source": [
        "# Construct USER training df, ITEM training df, and label df\n",
        "\n",
        "user_d = {}\n",
        "movie_d = {}\n",
        "y_train = []\n",
        "i = 0\n",
        "\n",
        "user_ids = ratings_df.userId.tolist()\n",
        "movie_ids = ratings_df.movieId.tolist()\n",
        "ratings = ratings_df.rating.tolist()\n",
        "\n",
        "for j in range(len(user_ids)):\n",
        "  user_id = user_ids[j]\n",
        "  movie_id = movie_ids[j]\n",
        "  user_d[i] = {\n",
        "      'user_id': user_id,\n",
        "      'rating_count': user_to_num_ratings[user_id],\n",
        "      'rating_avg': user_to_avg_rating[user_id],\n",
        "      **{genre: user_to_genre_to_avg_rating[user_id][genre] if genre in user_to_genre_to_avg_rating[user_id] else 0 for genre in all_genres_sorted},\n",
        "  }\n",
        "\n",
        "  movie_d[i] = {\n",
        "      'movie_id': movie_id,\n",
        "      # 'movie_title': movie_to_title[movie_id],\n",
        "      'movie_year': movie_to_year[movie_id],\n",
        "      'rating_avg': movie_to_avg_rating[movie_id],\n",
        "      **{genre: 1 if movie_id in movie_to_genres and genre in movie_to_genres[movie_id] else 0 for genre in all_genres_sorted},\n",
        "  }\n",
        "\n",
        "  y_train.append(ratings[j])\n",
        "  i += 1\n",
        "\n",
        "# converat label vector to numpy\n",
        "y_train = np.array(y_train)"
      ],
      "metadata": {
        "id": "j_fFYrLih_Dc"
      },
      "execution_count": 44,
      "outputs": []
    },
    {
      "cell_type": "code",
      "source": [
        "user_train = pd.DataFrame.from_dict(user_d, orient ='index')"
      ],
      "metadata": {
        "id": "W2UQKZElj3-G"
      },
      "execution_count": 45,
      "outputs": []
    },
    {
      "cell_type": "code",
      "source": [
        "item_train = pd.DataFrame.from_dict(movie_d, orient ='index')"
      ],
      "metadata": {
        "id": "q7yWpwSRj6oU"
      },
      "execution_count": 46,
      "outputs": []
    },
    {
      "cell_type": "code",
      "source": [
        "len(user_train), len(item_train)"
      ],
      "metadata": {
        "colab": {
          "base_uri": "https://localhost:8080/"
        },
        "id": "9mkHEbMs6z2O",
        "outputId": "d0895dfa-3973-4136-c70c-7bb0bce4bb32"
      },
      "execution_count": 47,
      "outputs": [
        {
          "output_type": "execute_result",
          "data": {
            "text/plain": [
              "(100836, 100836)"
            ]
          },
          "metadata": {},
          "execution_count": 47
        }
      ]
    },
    {
      "cell_type": "code",
      "source": [
        "user_train.head(3)"
      ],
      "metadata": {
        "colab": {
          "base_uri": "https://localhost:8080/",
          "height": 227
        },
        "id": "nonbbxiMosmE",
        "outputId": "eb853958-fc31-4f35-b6c9-90caca6494e0"
      },
      "execution_count": 48,
      "outputs": [
        {
          "output_type": "execute_result",
          "data": {
            "text/plain": [
              "   user_id  rating_count  rating_avg  (no genres listed)  Action  Adventure  \\\n",
              "0        1           232         4.4                 0.0     4.3        4.4   \n",
              "1        1           232         4.4                 0.0     4.3        4.4   \n",
              "2        1           232         4.4                 0.0     4.3        4.4   \n",
              "\n",
              "   Animation  Children  Comedy  Crime  ...  Film-Noir  Horror  IMAX  Musical  \\\n",
              "0        4.7       4.5     4.3    4.4  ...        5.0     3.5   0.0      4.7   \n",
              "1        4.7       4.5     4.3    4.4  ...        5.0     3.5   0.0      4.7   \n",
              "2        4.7       4.5     4.3    4.4  ...        5.0     3.5   0.0      4.7   \n",
              "\n",
              "   Mystery  Romance  Sci-Fi  Thriller  War  Western  \n",
              "0      4.2      4.3     4.2       4.1  4.5      4.3  \n",
              "1      4.2      4.3     4.2       4.1  4.5      4.3  \n",
              "2      4.2      4.3     4.2       4.1  4.5      4.3  \n",
              "\n",
              "[3 rows x 23 columns]"
            ],
            "text/html": [
              "\n",
              "  <div id=\"df-4bc31976-986c-4dac-9450-8bd0ecf174c3\" class=\"colab-df-container\">\n",
              "    <div>\n",
              "<style scoped>\n",
              "    .dataframe tbody tr th:only-of-type {\n",
              "        vertical-align: middle;\n",
              "    }\n",
              "\n",
              "    .dataframe tbody tr th {\n",
              "        vertical-align: top;\n",
              "    }\n",
              "\n",
              "    .dataframe thead th {\n",
              "        text-align: right;\n",
              "    }\n",
              "</style>\n",
              "<table border=\"1\" class=\"dataframe\">\n",
              "  <thead>\n",
              "    <tr style=\"text-align: right;\">\n",
              "      <th></th>\n",
              "      <th>user_id</th>\n",
              "      <th>rating_count</th>\n",
              "      <th>rating_avg</th>\n",
              "      <th>(no genres listed)</th>\n",
              "      <th>Action</th>\n",
              "      <th>Adventure</th>\n",
              "      <th>Animation</th>\n",
              "      <th>Children</th>\n",
              "      <th>Comedy</th>\n",
              "      <th>Crime</th>\n",
              "      <th>...</th>\n",
              "      <th>Film-Noir</th>\n",
              "      <th>Horror</th>\n",
              "      <th>IMAX</th>\n",
              "      <th>Musical</th>\n",
              "      <th>Mystery</th>\n",
              "      <th>Romance</th>\n",
              "      <th>Sci-Fi</th>\n",
              "      <th>Thriller</th>\n",
              "      <th>War</th>\n",
              "      <th>Western</th>\n",
              "    </tr>\n",
              "  </thead>\n",
              "  <tbody>\n",
              "    <tr>\n",
              "      <th>0</th>\n",
              "      <td>1</td>\n",
              "      <td>232</td>\n",
              "      <td>4.4</td>\n",
              "      <td>0.0</td>\n",
              "      <td>4.3</td>\n",
              "      <td>4.4</td>\n",
              "      <td>4.7</td>\n",
              "      <td>4.5</td>\n",
              "      <td>4.3</td>\n",
              "      <td>4.4</td>\n",
              "      <td>...</td>\n",
              "      <td>5.0</td>\n",
              "      <td>3.5</td>\n",
              "      <td>0.0</td>\n",
              "      <td>4.7</td>\n",
              "      <td>4.2</td>\n",
              "      <td>4.3</td>\n",
              "      <td>4.2</td>\n",
              "      <td>4.1</td>\n",
              "      <td>4.5</td>\n",
              "      <td>4.3</td>\n",
              "    </tr>\n",
              "    <tr>\n",
              "      <th>1</th>\n",
              "      <td>1</td>\n",
              "      <td>232</td>\n",
              "      <td>4.4</td>\n",
              "      <td>0.0</td>\n",
              "      <td>4.3</td>\n",
              "      <td>4.4</td>\n",
              "      <td>4.7</td>\n",
              "      <td>4.5</td>\n",
              "      <td>4.3</td>\n",
              "      <td>4.4</td>\n",
              "      <td>...</td>\n",
              "      <td>5.0</td>\n",
              "      <td>3.5</td>\n",
              "      <td>0.0</td>\n",
              "      <td>4.7</td>\n",
              "      <td>4.2</td>\n",
              "      <td>4.3</td>\n",
              "      <td>4.2</td>\n",
              "      <td>4.1</td>\n",
              "      <td>4.5</td>\n",
              "      <td>4.3</td>\n",
              "    </tr>\n",
              "    <tr>\n",
              "      <th>2</th>\n",
              "      <td>1</td>\n",
              "      <td>232</td>\n",
              "      <td>4.4</td>\n",
              "      <td>0.0</td>\n",
              "      <td>4.3</td>\n",
              "      <td>4.4</td>\n",
              "      <td>4.7</td>\n",
              "      <td>4.5</td>\n",
              "      <td>4.3</td>\n",
              "      <td>4.4</td>\n",
              "      <td>...</td>\n",
              "      <td>5.0</td>\n",
              "      <td>3.5</td>\n",
              "      <td>0.0</td>\n",
              "      <td>4.7</td>\n",
              "      <td>4.2</td>\n",
              "      <td>4.3</td>\n",
              "      <td>4.2</td>\n",
              "      <td>4.1</td>\n",
              "      <td>4.5</td>\n",
              "      <td>4.3</td>\n",
              "    </tr>\n",
              "  </tbody>\n",
              "</table>\n",
              "<p>3 rows × 23 columns</p>\n",
              "</div>\n",
              "    <div class=\"colab-df-buttons\">\n",
              "\n",
              "  <div class=\"colab-df-container\">\n",
              "    <button class=\"colab-df-convert\" onclick=\"convertToInteractive('df-4bc31976-986c-4dac-9450-8bd0ecf174c3')\"\n",
              "            title=\"Convert this dataframe to an interactive table.\"\n",
              "            style=\"display:none;\">\n",
              "\n",
              "  <svg xmlns=\"http://www.w3.org/2000/svg\" height=\"24px\" viewBox=\"0 -960 960 960\">\n",
              "    <path d=\"M120-120v-720h720v720H120Zm60-500h600v-160H180v160Zm220 220h160v-160H400v160Zm0 220h160v-160H400v160ZM180-400h160v-160H180v160Zm440 0h160v-160H620v160ZM180-180h160v-160H180v160Zm440 0h160v-160H620v160Z\"/>\n",
              "  </svg>\n",
              "    </button>\n",
              "\n",
              "  <style>\n",
              "    .colab-df-container {\n",
              "      display:flex;\n",
              "      gap: 12px;\n",
              "    }\n",
              "\n",
              "    .colab-df-convert {\n",
              "      background-color: #E8F0FE;\n",
              "      border: none;\n",
              "      border-radius: 50%;\n",
              "      cursor: pointer;\n",
              "      display: none;\n",
              "      fill: #1967D2;\n",
              "      height: 32px;\n",
              "      padding: 0 0 0 0;\n",
              "      width: 32px;\n",
              "    }\n",
              "\n",
              "    .colab-df-convert:hover {\n",
              "      background-color: #E2EBFA;\n",
              "      box-shadow: 0px 1px 2px rgba(60, 64, 67, 0.3), 0px 1px 3px 1px rgba(60, 64, 67, 0.15);\n",
              "      fill: #174EA6;\n",
              "    }\n",
              "\n",
              "    .colab-df-buttons div {\n",
              "      margin-bottom: 4px;\n",
              "    }\n",
              "\n",
              "    [theme=dark] .colab-df-convert {\n",
              "      background-color: #3B4455;\n",
              "      fill: #D2E3FC;\n",
              "    }\n",
              "\n",
              "    [theme=dark] .colab-df-convert:hover {\n",
              "      background-color: #434B5C;\n",
              "      box-shadow: 0px 1px 3px 1px rgba(0, 0, 0, 0.15);\n",
              "      filter: drop-shadow(0px 1px 2px rgba(0, 0, 0, 0.3));\n",
              "      fill: #FFFFFF;\n",
              "    }\n",
              "  </style>\n",
              "\n",
              "    <script>\n",
              "      const buttonEl =\n",
              "        document.querySelector('#df-4bc31976-986c-4dac-9450-8bd0ecf174c3 button.colab-df-convert');\n",
              "      buttonEl.style.display =\n",
              "        google.colab.kernel.accessAllowed ? 'block' : 'none';\n",
              "\n",
              "      async function convertToInteractive(key) {\n",
              "        const element = document.querySelector('#df-4bc31976-986c-4dac-9450-8bd0ecf174c3');\n",
              "        const dataTable =\n",
              "          await google.colab.kernel.invokeFunction('convertToInteractive',\n",
              "                                                    [key], {});\n",
              "        if (!dataTable) return;\n",
              "\n",
              "        const docLinkHtml = 'Like what you see? Visit the ' +\n",
              "          '<a target=\"_blank\" href=https://colab.research.google.com/notebooks/data_table.ipynb>data table notebook</a>'\n",
              "          + ' to learn more about interactive tables.';\n",
              "        element.innerHTML = '';\n",
              "        dataTable['output_type'] = 'display_data';\n",
              "        await google.colab.output.renderOutput(dataTable, element);\n",
              "        const docLink = document.createElement('div');\n",
              "        docLink.innerHTML = docLinkHtml;\n",
              "        element.appendChild(docLink);\n",
              "      }\n",
              "    </script>\n",
              "  </div>\n",
              "\n",
              "    </div>\n",
              "  </div>\n"
            ]
          },
          "metadata": {},
          "execution_count": 48
        }
      ]
    },
    {
      "cell_type": "code",
      "source": [
        "item_train.head(3)"
      ],
      "metadata": {
        "colab": {
          "base_uri": "https://localhost:8080/",
          "height": 227
        },
        "id": "W1r9FDBfouAx",
        "outputId": "d7122e4d-209d-4694-d972-9deee11f926d"
      },
      "execution_count": 49,
      "outputs": [
        {
          "output_type": "execute_result",
          "data": {
            "text/plain": [
              "   movie_id  movie_year  rating_avg  (no genres listed)  Action  Adventure  \\\n",
              "0         1        1995         3.9                   0       0          1   \n",
              "1         3        1995         3.3                   0       0          0   \n",
              "2         6        1995         3.9                   0       1          0   \n",
              "\n",
              "   Animation  Children  Comedy  Crime  ...  Film-Noir  Horror  IMAX  Musical  \\\n",
              "0          1         1       1      0  ...          0       0     0        0   \n",
              "1          0         0       1      0  ...          0       0     0        0   \n",
              "2          0         0       0      1  ...          0       0     0        0   \n",
              "\n",
              "   Mystery  Romance  Sci-Fi  Thriller  War  Western  \n",
              "0        0        0       0         0    0        0  \n",
              "1        0        1       0         0    0        0  \n",
              "2        0        0       0         1    0        0  \n",
              "\n",
              "[3 rows x 23 columns]"
            ],
            "text/html": [
              "\n",
              "  <div id=\"df-bc94a1e6-7666-4478-b094-8a87ae37be53\" class=\"colab-df-container\">\n",
              "    <div>\n",
              "<style scoped>\n",
              "    .dataframe tbody tr th:only-of-type {\n",
              "        vertical-align: middle;\n",
              "    }\n",
              "\n",
              "    .dataframe tbody tr th {\n",
              "        vertical-align: top;\n",
              "    }\n",
              "\n",
              "    .dataframe thead th {\n",
              "        text-align: right;\n",
              "    }\n",
              "</style>\n",
              "<table border=\"1\" class=\"dataframe\">\n",
              "  <thead>\n",
              "    <tr style=\"text-align: right;\">\n",
              "      <th></th>\n",
              "      <th>movie_id</th>\n",
              "      <th>movie_year</th>\n",
              "      <th>rating_avg</th>\n",
              "      <th>(no genres listed)</th>\n",
              "      <th>Action</th>\n",
              "      <th>Adventure</th>\n",
              "      <th>Animation</th>\n",
              "      <th>Children</th>\n",
              "      <th>Comedy</th>\n",
              "      <th>Crime</th>\n",
              "      <th>...</th>\n",
              "      <th>Film-Noir</th>\n",
              "      <th>Horror</th>\n",
              "      <th>IMAX</th>\n",
              "      <th>Musical</th>\n",
              "      <th>Mystery</th>\n",
              "      <th>Romance</th>\n",
              "      <th>Sci-Fi</th>\n",
              "      <th>Thriller</th>\n",
              "      <th>War</th>\n",
              "      <th>Western</th>\n",
              "    </tr>\n",
              "  </thead>\n",
              "  <tbody>\n",
              "    <tr>\n",
              "      <th>0</th>\n",
              "      <td>1</td>\n",
              "      <td>1995</td>\n",
              "      <td>3.9</td>\n",
              "      <td>0</td>\n",
              "      <td>0</td>\n",
              "      <td>1</td>\n",
              "      <td>1</td>\n",
              "      <td>1</td>\n",
              "      <td>1</td>\n",
              "      <td>0</td>\n",
              "      <td>...</td>\n",
              "      <td>0</td>\n",
              "      <td>0</td>\n",
              "      <td>0</td>\n",
              "      <td>0</td>\n",
              "      <td>0</td>\n",
              "      <td>0</td>\n",
              "      <td>0</td>\n",
              "      <td>0</td>\n",
              "      <td>0</td>\n",
              "      <td>0</td>\n",
              "    </tr>\n",
              "    <tr>\n",
              "      <th>1</th>\n",
              "      <td>3</td>\n",
              "      <td>1995</td>\n",
              "      <td>3.3</td>\n",
              "      <td>0</td>\n",
              "      <td>0</td>\n",
              "      <td>0</td>\n",
              "      <td>0</td>\n",
              "      <td>0</td>\n",
              "      <td>1</td>\n",
              "      <td>0</td>\n",
              "      <td>...</td>\n",
              "      <td>0</td>\n",
              "      <td>0</td>\n",
              "      <td>0</td>\n",
              "      <td>0</td>\n",
              "      <td>0</td>\n",
              "      <td>1</td>\n",
              "      <td>0</td>\n",
              "      <td>0</td>\n",
              "      <td>0</td>\n",
              "      <td>0</td>\n",
              "    </tr>\n",
              "    <tr>\n",
              "      <th>2</th>\n",
              "      <td>6</td>\n",
              "      <td>1995</td>\n",
              "      <td>3.9</td>\n",
              "      <td>0</td>\n",
              "      <td>1</td>\n",
              "      <td>0</td>\n",
              "      <td>0</td>\n",
              "      <td>0</td>\n",
              "      <td>0</td>\n",
              "      <td>1</td>\n",
              "      <td>...</td>\n",
              "      <td>0</td>\n",
              "      <td>0</td>\n",
              "      <td>0</td>\n",
              "      <td>0</td>\n",
              "      <td>0</td>\n",
              "      <td>0</td>\n",
              "      <td>0</td>\n",
              "      <td>1</td>\n",
              "      <td>0</td>\n",
              "      <td>0</td>\n",
              "    </tr>\n",
              "  </tbody>\n",
              "</table>\n",
              "<p>3 rows × 23 columns</p>\n",
              "</div>\n",
              "    <div class=\"colab-df-buttons\">\n",
              "\n",
              "  <div class=\"colab-df-container\">\n",
              "    <button class=\"colab-df-convert\" onclick=\"convertToInteractive('df-bc94a1e6-7666-4478-b094-8a87ae37be53')\"\n",
              "            title=\"Convert this dataframe to an interactive table.\"\n",
              "            style=\"display:none;\">\n",
              "\n",
              "  <svg xmlns=\"http://www.w3.org/2000/svg\" height=\"24px\" viewBox=\"0 -960 960 960\">\n",
              "    <path d=\"M120-120v-720h720v720H120Zm60-500h600v-160H180v160Zm220 220h160v-160H400v160Zm0 220h160v-160H400v160ZM180-400h160v-160H180v160Zm440 0h160v-160H620v160ZM180-180h160v-160H180v160Zm440 0h160v-160H620v160Z\"/>\n",
              "  </svg>\n",
              "    </button>\n",
              "\n",
              "  <style>\n",
              "    .colab-df-container {\n",
              "      display:flex;\n",
              "      gap: 12px;\n",
              "    }\n",
              "\n",
              "    .colab-df-convert {\n",
              "      background-color: #E8F0FE;\n",
              "      border: none;\n",
              "      border-radius: 50%;\n",
              "      cursor: pointer;\n",
              "      display: none;\n",
              "      fill: #1967D2;\n",
              "      height: 32px;\n",
              "      padding: 0 0 0 0;\n",
              "      width: 32px;\n",
              "    }\n",
              "\n",
              "    .colab-df-convert:hover {\n",
              "      background-color: #E2EBFA;\n",
              "      box-shadow: 0px 1px 2px rgba(60, 64, 67, 0.3), 0px 1px 3px 1px rgba(60, 64, 67, 0.15);\n",
              "      fill: #174EA6;\n",
              "    }\n",
              "\n",
              "    .colab-df-buttons div {\n",
              "      margin-bottom: 4px;\n",
              "    }\n",
              "\n",
              "    [theme=dark] .colab-df-convert {\n",
              "      background-color: #3B4455;\n",
              "      fill: #D2E3FC;\n",
              "    }\n",
              "\n",
              "    [theme=dark] .colab-df-convert:hover {\n",
              "      background-color: #434B5C;\n",
              "      box-shadow: 0px 1px 3px 1px rgba(0, 0, 0, 0.15);\n",
              "      filter: drop-shadow(0px 1px 2px rgba(0, 0, 0, 0.3));\n",
              "      fill: #FFFFFF;\n",
              "    }\n",
              "  </style>\n",
              "\n",
              "    <script>\n",
              "      const buttonEl =\n",
              "        document.querySelector('#df-bc94a1e6-7666-4478-b094-8a87ae37be53 button.colab-df-convert');\n",
              "      buttonEl.style.display =\n",
              "        google.colab.kernel.accessAllowed ? 'block' : 'none';\n",
              "\n",
              "      async function convertToInteractive(key) {\n",
              "        const element = document.querySelector('#df-bc94a1e6-7666-4478-b094-8a87ae37be53');\n",
              "        const dataTable =\n",
              "          await google.colab.kernel.invokeFunction('convertToInteractive',\n",
              "                                                    [key], {});\n",
              "        if (!dataTable) return;\n",
              "\n",
              "        const docLinkHtml = 'Like what you see? Visit the ' +\n",
              "          '<a target=\"_blank\" href=https://colab.research.google.com/notebooks/data_table.ipynb>data table notebook</a>'\n",
              "          + ' to learn more about interactive tables.';\n",
              "        element.innerHTML = '';\n",
              "        dataTable['output_type'] = 'display_data';\n",
              "        await google.colab.output.renderOutput(dataTable, element);\n",
              "        const docLink = document.createElement('div');\n",
              "        docLink.innerHTML = docLinkHtml;\n",
              "        element.appendChild(docLink);\n",
              "      }\n",
              "    </script>\n",
              "  </div>\n",
              "\n",
              "    </div>\n",
              "  </div>\n"
            ]
          },
          "metadata": {},
          "execution_count": 49
        }
      ]
    },
    {
      "cell_type": "code",
      "source": [
        "print(f\"y_train[:5]: {y_train[:5]}\")"
      ],
      "metadata": {
        "colab": {
          "base_uri": "https://localhost:8080/"
        },
        "id": "vRqBgoRVo2Mb",
        "outputId": "fd4f2bd0-884e-4cb8-9f00-da5f53540931"
      },
      "execution_count": 50,
      "outputs": [
        {
          "output_type": "stream",
          "name": "stdout",
          "text": [
            "y_train[:5]: [4. 4. 4. 5. 5.]\n"
          ]
        }
      ]
    },
    {
      "cell_type": "markdown",
      "source": [
        "# DATA PREPROCESSING"
      ],
      "metadata": {
        "id": "QTsCh4mGrn4a"
      }
    },
    {
      "cell_type": "code",
      "source": [
        "num_user_features = user_train.shape[1] - 3  # remove userid, rating count and ave rating during training\n",
        "num_item_features = item_train.shape[1] - 1  # remove movie id at train time\n",
        "\n",
        "uvs = 3  # user genre vector start\n",
        "ivs = 3  # item genre vector start\n",
        "u_s = 3  # start of columns to use in training, user\n",
        "i_s = 1  # start of columns to use in training, items\n",
        "\n",
        "scaledata = True  # applies the standard scalar to data if true\n",
        "\n",
        "print(f\"Number of training vectors: {len(item_train)}\")"
      ],
      "metadata": {
        "colab": {
          "base_uri": "https://localhost:8080/"
        },
        "id": "ujOjujKemAWG",
        "outputId": "c4c92e75-9140-47d3-9ff8-bda60a8310c9"
      },
      "execution_count": 51,
      "outputs": [
        {
          "output_type": "stream",
          "name": "stdout",
          "text": [
            "Number of training vectors: 100836\n"
          ]
        }
      ]
    },
    {
      "cell_type": "code",
      "source": [
        "# scale user training data\n",
        "user_train_save = user_train\n",
        "\n",
        "scalerUser = StandardScaler()\n",
        "scalerUser.fit(user_train)\n",
        "user_train_scaled = scalerUser.transform(user_train)\n",
        "\n",
        "# scale item training data\n",
        "item_train_save = item_train\n",
        "\n",
        "scalerItem = StandardScaler()\n",
        "scalerItem.fit(item_train)\n",
        "item_train_scaled = scalerItem.transform(item_train)\n",
        "\n",
        "# verify scaling worked\n",
        "print(np.allclose(item_train_save, scalerItem.inverse_transform(item_train_scaled)))\n",
        "print(np.allclose(user_train_save, scalerUser.inverse_transform(user_train_scaled)))"
      ],
      "metadata": {
        "colab": {
          "base_uri": "https://localhost:8080/"
        },
        "id": "C849AeQknrnU",
        "outputId": "402e1117-efe5-4b5b-e5e0-db531f1599a0"
      },
      "execution_count": 66,
      "outputs": [
        {
          "output_type": "stream",
          "name": "stdout",
          "text": [
            "True\n",
            "True\n"
          ]
        }
      ]
    },
    {
      "cell_type": "code",
      "source": [
        "item_train_train, item_test = train_test_split(item_train_scaled, train_size=0.90, shuffle=True, random_state=1)\n",
        "user_train_train, user_test = train_test_split(user_train_scaled, train_size=0.90, shuffle=True, random_state=1)\n",
        "y_train_train, y_test = train_test_split(y_train, train_size=0.90, shuffle=True, random_state=1)\n",
        "print(f\"movie/item training data shape: {item_train_train.shape}\")\n",
        "print(f\"movie/item test  data shape: {item_test.shape}\")"
      ],
      "metadata": {
        "colab": {
          "base_uri": "https://localhost:8080/"
        },
        "id": "dg62THw9nzFJ",
        "outputId": "86935b29-eef7-47cf-a259-34090ad4a033"
      },
      "execution_count": 53,
      "outputs": [
        {
          "output_type": "stream",
          "name": "stdout",
          "text": [
            "movie/item training data shape: (90752, 23)\n",
            "movie/item test  data shape: (10084, 23)\n"
          ]
        }
      ]
    },
    {
      "cell_type": "code",
      "source": [
        "scaler = MinMaxScaler((-1, 1))\n",
        "scaler.fit(y_train_train.reshape(-1, 1))\n",
        "ynorm_train = scaler.transform(y_train_train.reshape(-1, 1))\n",
        "ynorm_test = scaler.transform(y_test.reshape(-1, 1))\n",
        "print(ynorm_train.shape, ynorm_test.shape)"
      ],
      "metadata": {
        "colab": {
          "base_uri": "https://localhost:8080/"
        },
        "id": "WPxmZSf8o-KO",
        "outputId": "56a72e1d-69bc-4e3d-eb2c-8bf3998ebdc0"
      },
      "execution_count": 54,
      "outputs": [
        {
          "output_type": "stream",
          "name": "stdout",
          "text": [
            "(90752, 1) (10084, 1)\n"
          ]
        }
      ]
    },
    {
      "cell_type": "markdown",
      "source": [
        "# MODEL TRAINING"
      ],
      "metadata": {
        "id": "8Y0MlyT0rjO-"
      }
    },
    {
      "cell_type": "code",
      "source": [
        "num_outputs = 32\n",
        "tf.random.set_seed(1)\n",
        "\n",
        "user_NN = tf.keras.models.Sequential([\n",
        "    tf.keras.layers.Dense(256, activation='relu'),\n",
        "    tf.keras.layers.Dense(128, activation='relu'),\n",
        "    tf.keras.layers.Dense(num_outputs, activation='linear'),\n",
        "])\n",
        "\n",
        "item_NN = tf.keras.models.Sequential([\n",
        "    tf.keras.layers.Dense(256, activation='relu'),\n",
        "    tf.keras.layers.Dense(128, activation='relu'),\n",
        "    tf.keras.layers.Dense(num_outputs, activation='linear'),\n",
        "])\n",
        "\n",
        "# create the user input and point to the base network\n",
        "input_user = tf.keras.layers.Input(shape=(num_user_features))\n",
        "vu = user_NN(input_user)\n",
        "vu = tf.linalg.l2_normalize(vu, axis=1)\n",
        "\n",
        "# create the item input and point to the base network\n",
        "input_item = tf.keras.layers.Input(shape=(num_item_features))\n",
        "vm = item_NN(input_item)\n",
        "vm = tf.linalg.l2_normalize(vm, axis=1)\n",
        "\n",
        "# compute the dot product of the two vectors vu and vm\n",
        "output = tf.keras.layers.Dot(axes=1)([vu, vm])\n",
        "\n",
        "# specify the inputs and output of the model\n",
        "model = keras.Model([input_user, input_item], output)\n",
        "\n",
        "model.summary()"
      ],
      "metadata": {
        "colab": {
          "base_uri": "https://localhost:8080/"
        },
        "id": "C9g0QVwJpSEC",
        "outputId": "673ae506-1918-4c03-af98-106c825b07ba"
      },
      "execution_count": 55,
      "outputs": [
        {
          "output_type": "stream",
          "name": "stdout",
          "text": [
            "Model: \"model_1\"\n",
            "__________________________________________________________________________________________________\n",
            " Layer (type)                   Output Shape         Param #     Connected to                     \n",
            "==================================================================================================\n",
            " input_3 (InputLayer)           [(None, 20)]         0           []                               \n",
            "                                                                                                  \n",
            " input_4 (InputLayer)           [(None, 22)]         0           []                               \n",
            "                                                                                                  \n",
            " sequential_2 (Sequential)      (None, 32)           42400       ['input_3[0][0]']                \n",
            "                                                                                                  \n",
            " sequential_3 (Sequential)      (None, 32)           42912       ['input_4[0][0]']                \n",
            "                                                                                                  \n",
            " tf.math.l2_normalize_2 (TFOpLa  (None, 32)          0           ['sequential_2[0][0]']           \n",
            " mbda)                                                                                            \n",
            "                                                                                                  \n",
            " tf.math.l2_normalize_3 (TFOpLa  (None, 32)          0           ['sequential_3[0][0]']           \n",
            " mbda)                                                                                            \n",
            "                                                                                                  \n",
            " dot_1 (Dot)                    (None, 1)            0           ['tf.math.l2_normalize_2[0][0]', \n",
            "                                                                  'tf.math.l2_normalize_3[0][0]'] \n",
            "                                                                                                  \n",
            "==================================================================================================\n",
            "Total params: 85,312\n",
            "Trainable params: 85,312\n",
            "Non-trainable params: 0\n",
            "__________________________________________________________________________________________________\n"
          ]
        }
      ]
    },
    {
      "cell_type": "code",
      "source": [
        "tf.random.set_seed(1)\n",
        "cost_fn = tf.keras.losses.MeanSquaredError()\n",
        "opt = keras.optimizers.Adam(learning_rate=0.1)\n",
        "model.compile(optimizer=opt,\n",
        "              loss=cost_fn)"
      ],
      "metadata": {
        "id": "2hoYT5CtptfK"
      },
      "execution_count": 56,
      "outputs": []
    },
    {
      "cell_type": "code",
      "source": [
        "tf.random.set_seed(1)\n",
        "\n",
        "model.fit([user_train_train[:, u_s:], item_train_train[:, i_s:]], ynorm_train, epochs=25)"
      ],
      "metadata": {
        "id": "pnF45pb3qECP",
        "colab": {
          "base_uri": "https://localhost:8080/"
        },
        "outputId": "bc926c68-7c4a-4442-f68f-254b4c05c968"
      },
      "execution_count": 57,
      "outputs": [
        {
          "output_type": "stream",
          "name": "stdout",
          "text": [
            "Epoch 1/25\n",
            "2836/2836 [==============================] - 12s 3ms/step - loss: 0.1358\n",
            "Epoch 2/25\n",
            "2836/2836 [==============================] - 10s 3ms/step - loss: 0.1292\n",
            "Epoch 3/25\n",
            "2836/2836 [==============================] - 11s 4ms/step - loss: 0.1266\n",
            "Epoch 4/25\n",
            "2836/2836 [==============================] - 12s 4ms/step - loss: 0.1250\n",
            "Epoch 5/25\n",
            "2836/2836 [==============================] - 12s 4ms/step - loss: 0.1237\n",
            "Epoch 6/25\n",
            "2836/2836 [==============================] - 13s 5ms/step - loss: 0.1220\n",
            "Epoch 7/25\n",
            "2836/2836 [==============================] - 10s 4ms/step - loss: 0.1202\n",
            "Epoch 8/25\n",
            "2836/2836 [==============================] - 16s 6ms/step - loss: 0.1187\n",
            "Epoch 9/25\n",
            "2836/2836 [==============================] - 14s 5ms/step - loss: 0.1180\n",
            "Epoch 10/25\n",
            "2836/2836 [==============================] - 14s 5ms/step - loss: 0.1171\n",
            "Epoch 11/25\n",
            "2836/2836 [==============================] - 16s 6ms/step - loss: 0.1161\n",
            "Epoch 12/25\n",
            "2836/2836 [==============================] - 17s 6ms/step - loss: 0.1151\n",
            "Epoch 13/25\n",
            "2836/2836 [==============================] - 13s 5ms/step - loss: 0.1144\n",
            "Epoch 14/25\n",
            "2836/2836 [==============================] - 11s 4ms/step - loss: 0.1139\n",
            "Epoch 15/25\n",
            "2836/2836 [==============================] - 9s 3ms/step - loss: 0.1131\n",
            "Epoch 16/25\n",
            "2836/2836 [==============================] - 10s 4ms/step - loss: 0.1127\n",
            "Epoch 17/25\n",
            "2836/2836 [==============================] - 10s 3ms/step - loss: 0.1122\n",
            "Epoch 18/25\n",
            "2836/2836 [==============================] - 10s 3ms/step - loss: 0.1118\n",
            "Epoch 19/25\n",
            "2836/2836 [==============================] - 12s 4ms/step - loss: 0.1113\n",
            "Epoch 20/25\n",
            "2836/2836 [==============================] - 15s 5ms/step - loss: 0.1109\n",
            "Epoch 21/25\n",
            "2836/2836 [==============================] - 15s 5ms/step - loss: 0.1105\n",
            "Epoch 22/25\n",
            "2836/2836 [==============================] - 15s 5ms/step - loss: 0.1101\n",
            "Epoch 23/25\n",
            "2836/2836 [==============================] - 12s 4ms/step - loss: 0.1097\n",
            "Epoch 24/25\n",
            "2836/2836 [==============================] - 10s 4ms/step - loss: 0.1094\n",
            "Epoch 25/25\n",
            "2836/2836 [==============================] - 12s 4ms/step - loss: 0.1091\n"
          ]
        },
        {
          "output_type": "execute_result",
          "data": {
            "text/plain": [
              "<keras.callbacks.History at 0x786982f5b580>"
            ]
          },
          "metadata": {},
          "execution_count": 57
        }
      ]
    },
    {
      "cell_type": "code",
      "source": [
        "model.evaluate([user_test[:, u_s:], item_test[:, i_s:]], ynorm_test)"
      ],
      "metadata": {
        "colab": {
          "base_uri": "https://localhost:8080/"
        },
        "id": "xekad9a_qF8x",
        "outputId": "5d3c247f-c2f5-4e1a-e9bf-faba3f9ccc0d"
      },
      "execution_count": 65,
      "outputs": [
        {
          "output_type": "stream",
          "name": "stdout",
          "text": [
            "316/316 [==============================] - 1s 2ms/step - loss: 0.1177\n"
          ]
        },
        {
          "output_type": "execute_result",
          "data": {
            "text/plain": [
              "0.11771972477436066"
            ]
          },
          "metadata": {},
          "execution_count": 65
        }
      ]
    },
    {
      "cell_type": "markdown",
      "source": [
        "# INFERENCE"
      ],
      "metadata": {
        "id": "AiAEi9c5rejc"
      }
    },
    {
      "cell_type": "code",
      "source": [
        "# get item embedding for every movie\n",
        "movie_vectors = []\n",
        "movie_id_to_vector_list_index = {}\n",
        "movie_vector_index_to_movie_id = {}\n",
        "\n",
        "cols = item_train.columns\n",
        "\n",
        "col_to_data = {}\n",
        "for col in cols:\n",
        "  col_to_data[col] = item_train[col].tolist()\n",
        "\n",
        "for i in range(len(item_train)):\n",
        "  item_vector = []\n",
        "  for col in col_to_data.keys():\n",
        "    item_vector.append(col_to_data[col][i])\n",
        "\n",
        "  if col_to_data['movie_id'][i] not in movie_id_to_vector_list_index:\n",
        "    movie_vectors.append(item_vector)\n",
        "    movie_id_to_vector_list_index[col_to_data['movie_id'][i]] = len(movie_vectors) - 1\n",
        "    movie_vector_index_to_movie_id[len(movie_vectors) - 1] = col_to_data['movie_id'][i]\n",
        "\n",
        "movie_vectors = np.array(movie_vectors)"
      ],
      "metadata": {
        "id": "MdPW45PqxD7O"
      },
      "execution_count": 67,
      "outputs": []
    },
    {
      "cell_type": "code",
      "source": [
        "item_train.head(3)"
      ],
      "metadata": {
        "colab": {
          "base_uri": "https://localhost:8080/",
          "height": 227
        },
        "id": "Sr53Il35y1gq",
        "outputId": "b314a552-ddda-49f3-b0af-9503ae6d8d98"
      },
      "execution_count": 68,
      "outputs": [
        {
          "output_type": "execute_result",
          "data": {
            "text/plain": [
              "   movie_id  movie_year  rating_avg  (no genres listed)  Action  Adventure  \\\n",
              "0         1        1995         3.9                   0       0          1   \n",
              "1         3        1995         3.3                   0       0          0   \n",
              "2         6        1995         3.9                   0       1          0   \n",
              "\n",
              "   Animation  Children  Comedy  Crime  ...  Film-Noir  Horror  IMAX  Musical  \\\n",
              "0          1         1       1      0  ...          0       0     0        0   \n",
              "1          0         0       1      0  ...          0       0     0        0   \n",
              "2          0         0       0      1  ...          0       0     0        0   \n",
              "\n",
              "   Mystery  Romance  Sci-Fi  Thriller  War  Western  \n",
              "0        0        0       0         0    0        0  \n",
              "1        0        1       0         0    0        0  \n",
              "2        0        0       0         1    0        0  \n",
              "\n",
              "[3 rows x 23 columns]"
            ],
            "text/html": [
              "\n",
              "  <div id=\"df-e875e7a9-56a9-429a-b1d0-6883f4f49d36\" class=\"colab-df-container\">\n",
              "    <div>\n",
              "<style scoped>\n",
              "    .dataframe tbody tr th:only-of-type {\n",
              "        vertical-align: middle;\n",
              "    }\n",
              "\n",
              "    .dataframe tbody tr th {\n",
              "        vertical-align: top;\n",
              "    }\n",
              "\n",
              "    .dataframe thead th {\n",
              "        text-align: right;\n",
              "    }\n",
              "</style>\n",
              "<table border=\"1\" class=\"dataframe\">\n",
              "  <thead>\n",
              "    <tr style=\"text-align: right;\">\n",
              "      <th></th>\n",
              "      <th>movie_id</th>\n",
              "      <th>movie_year</th>\n",
              "      <th>rating_avg</th>\n",
              "      <th>(no genres listed)</th>\n",
              "      <th>Action</th>\n",
              "      <th>Adventure</th>\n",
              "      <th>Animation</th>\n",
              "      <th>Children</th>\n",
              "      <th>Comedy</th>\n",
              "      <th>Crime</th>\n",
              "      <th>...</th>\n",
              "      <th>Film-Noir</th>\n",
              "      <th>Horror</th>\n",
              "      <th>IMAX</th>\n",
              "      <th>Musical</th>\n",
              "      <th>Mystery</th>\n",
              "      <th>Romance</th>\n",
              "      <th>Sci-Fi</th>\n",
              "      <th>Thriller</th>\n",
              "      <th>War</th>\n",
              "      <th>Western</th>\n",
              "    </tr>\n",
              "  </thead>\n",
              "  <tbody>\n",
              "    <tr>\n",
              "      <th>0</th>\n",
              "      <td>1</td>\n",
              "      <td>1995</td>\n",
              "      <td>3.9</td>\n",
              "      <td>0</td>\n",
              "      <td>0</td>\n",
              "      <td>1</td>\n",
              "      <td>1</td>\n",
              "      <td>1</td>\n",
              "      <td>1</td>\n",
              "      <td>0</td>\n",
              "      <td>...</td>\n",
              "      <td>0</td>\n",
              "      <td>0</td>\n",
              "      <td>0</td>\n",
              "      <td>0</td>\n",
              "      <td>0</td>\n",
              "      <td>0</td>\n",
              "      <td>0</td>\n",
              "      <td>0</td>\n",
              "      <td>0</td>\n",
              "      <td>0</td>\n",
              "    </tr>\n",
              "    <tr>\n",
              "      <th>1</th>\n",
              "      <td>3</td>\n",
              "      <td>1995</td>\n",
              "      <td>3.3</td>\n",
              "      <td>0</td>\n",
              "      <td>0</td>\n",
              "      <td>0</td>\n",
              "      <td>0</td>\n",
              "      <td>0</td>\n",
              "      <td>1</td>\n",
              "      <td>0</td>\n",
              "      <td>...</td>\n",
              "      <td>0</td>\n",
              "      <td>0</td>\n",
              "      <td>0</td>\n",
              "      <td>0</td>\n",
              "      <td>0</td>\n",
              "      <td>1</td>\n",
              "      <td>0</td>\n",
              "      <td>0</td>\n",
              "      <td>0</td>\n",
              "      <td>0</td>\n",
              "    </tr>\n",
              "    <tr>\n",
              "      <th>2</th>\n",
              "      <td>6</td>\n",
              "      <td>1995</td>\n",
              "      <td>3.9</td>\n",
              "      <td>0</td>\n",
              "      <td>1</td>\n",
              "      <td>0</td>\n",
              "      <td>0</td>\n",
              "      <td>0</td>\n",
              "      <td>0</td>\n",
              "      <td>1</td>\n",
              "      <td>...</td>\n",
              "      <td>0</td>\n",
              "      <td>0</td>\n",
              "      <td>0</td>\n",
              "      <td>0</td>\n",
              "      <td>0</td>\n",
              "      <td>0</td>\n",
              "      <td>0</td>\n",
              "      <td>1</td>\n",
              "      <td>0</td>\n",
              "      <td>0</td>\n",
              "    </tr>\n",
              "  </tbody>\n",
              "</table>\n",
              "<p>3 rows × 23 columns</p>\n",
              "</div>\n",
              "    <div class=\"colab-df-buttons\">\n",
              "\n",
              "  <div class=\"colab-df-container\">\n",
              "    <button class=\"colab-df-convert\" onclick=\"convertToInteractive('df-e875e7a9-56a9-429a-b1d0-6883f4f49d36')\"\n",
              "            title=\"Convert this dataframe to an interactive table.\"\n",
              "            style=\"display:none;\">\n",
              "\n",
              "  <svg xmlns=\"http://www.w3.org/2000/svg\" height=\"24px\" viewBox=\"0 -960 960 960\">\n",
              "    <path d=\"M120-120v-720h720v720H120Zm60-500h600v-160H180v160Zm220 220h160v-160H400v160Zm0 220h160v-160H400v160ZM180-400h160v-160H180v160Zm440 0h160v-160H620v160ZM180-180h160v-160H180v160Zm440 0h160v-160H620v160Z\"/>\n",
              "  </svg>\n",
              "    </button>\n",
              "\n",
              "  <style>\n",
              "    .colab-df-container {\n",
              "      display:flex;\n",
              "      gap: 12px;\n",
              "    }\n",
              "\n",
              "    .colab-df-convert {\n",
              "      background-color: #E8F0FE;\n",
              "      border: none;\n",
              "      border-radius: 50%;\n",
              "      cursor: pointer;\n",
              "      display: none;\n",
              "      fill: #1967D2;\n",
              "      height: 32px;\n",
              "      padding: 0 0 0 0;\n",
              "      width: 32px;\n",
              "    }\n",
              "\n",
              "    .colab-df-convert:hover {\n",
              "      background-color: #E2EBFA;\n",
              "      box-shadow: 0px 1px 2px rgba(60, 64, 67, 0.3), 0px 1px 3px 1px rgba(60, 64, 67, 0.15);\n",
              "      fill: #174EA6;\n",
              "    }\n",
              "\n",
              "    .colab-df-buttons div {\n",
              "      margin-bottom: 4px;\n",
              "    }\n",
              "\n",
              "    [theme=dark] .colab-df-convert {\n",
              "      background-color: #3B4455;\n",
              "      fill: #D2E3FC;\n",
              "    }\n",
              "\n",
              "    [theme=dark] .colab-df-convert:hover {\n",
              "      background-color: #434B5C;\n",
              "      box-shadow: 0px 1px 3px 1px rgba(0, 0, 0, 0.15);\n",
              "      filter: drop-shadow(0px 1px 2px rgba(0, 0, 0, 0.3));\n",
              "      fill: #FFFFFF;\n",
              "    }\n",
              "  </style>\n",
              "\n",
              "    <script>\n",
              "      const buttonEl =\n",
              "        document.querySelector('#df-e875e7a9-56a9-429a-b1d0-6883f4f49d36 button.colab-df-convert');\n",
              "      buttonEl.style.display =\n",
              "        google.colab.kernel.accessAllowed ? 'block' : 'none';\n",
              "\n",
              "      async function convertToInteractive(key) {\n",
              "        const element = document.querySelector('#df-e875e7a9-56a9-429a-b1d0-6883f4f49d36');\n",
              "        const dataTable =\n",
              "          await google.colab.kernel.invokeFunction('convertToInteractive',\n",
              "                                                    [key], {});\n",
              "        if (!dataTable) return;\n",
              "\n",
              "        const docLinkHtml = 'Like what you see? Visit the ' +\n",
              "          '<a target=\"_blank\" href=https://colab.research.google.com/notebooks/data_table.ipynb>data table notebook</a>'\n",
              "          + ' to learn more about interactive tables.';\n",
              "        element.innerHTML = '';\n",
              "        dataTable['output_type'] = 'display_data';\n",
              "        await google.colab.output.renderOutput(dataTable, element);\n",
              "        const docLink = document.createElement('div');\n",
              "        docLink.innerHTML = docLinkHtml;\n",
              "        element.appendChild(docLink);\n",
              "      }\n",
              "    </script>\n",
              "  </div>\n",
              "\n",
              "    </div>\n",
              "  </div>\n"
            ]
          },
          "metadata": {},
          "execution_count": 68
        }
      ]
    },
    {
      "cell_type": "code",
      "source": [
        "movie_vectors[movie_id_to_vector_list_index[1]]"
      ],
      "metadata": {
        "colab": {
          "base_uri": "https://localhost:8080/"
        },
        "id": "kE2BabcQ7Qp2",
        "outputId": "ce3e81e8-bf56-43c6-f633-7c52893fb620"
      },
      "execution_count": 103,
      "outputs": [
        {
          "output_type": "execute_result",
          "data": {
            "text/plain": [
              "array([1.00000000e+00, 1.99500000e+03, 3.92093023e+00, 0.00000000e+00,\n",
              "       0.00000000e+00, 1.00000000e+00, 1.00000000e+00, 1.00000000e+00,\n",
              "       1.00000000e+00, 0.00000000e+00, 0.00000000e+00, 0.00000000e+00,\n",
              "       1.00000000e+00, 0.00000000e+00, 0.00000000e+00, 0.00000000e+00,\n",
              "       0.00000000e+00, 0.00000000e+00, 0.00000000e+00, 0.00000000e+00,\n",
              "       0.00000000e+00, 0.00000000e+00, 0.00000000e+00])"
            ]
          },
          "metadata": {},
          "execution_count": 103
        }
      ]
    },
    {
      "cell_type": "code",
      "source": [
        "# scale movie_vectors using all training movie vectors\n",
        "scalerItemInference = StandardScaler()\n",
        "scalerItemInference.fit(movie_vectors)\n",
        "movie_vectors_scaled = scalerItemInference.transform(movie_vectors)\n",
        "\n",
        "movie_vectors_scaled[movie_id_to_vector_list_index[1]]"
      ],
      "metadata": {
        "colab": {
          "base_uri": "https://localhost:8080/"
        },
        "id": "cVog6m-e0fLA",
        "outputId": "cf11323d-4542-4d7b-f6f3-215cba976953"
      },
      "execution_count": 105,
      "outputs": [
        {
          "output_type": "execute_result",
          "data": {
            "text/plain": [
              "array([-0.80945154,  0.03866622,  0.75702469, -0.05923489, -0.48115447,\n",
              "        2.58944585,  3.86535685,  3.69385683,  1.26134606, -0.37449153,\n",
              "       -0.21718144, -0.89950891,  3.39097547, -0.09390603, -0.33420867,\n",
              "       -0.12851782, -0.18830688, -0.25023211, -0.44229263, -0.33477881,\n",
              "       -0.49101694, -0.20193859, -0.13218965])"
            ]
          },
          "metadata": {},
          "execution_count": 105
        }
      ]
    },
    {
      "cell_type": "code",
      "source": [
        "all_genres_sorted"
      ],
      "metadata": {
        "colab": {
          "base_uri": "https://localhost:8080/"
        },
        "id": "CpObNkxv6CbZ",
        "outputId": "b7a2aa18-5371-446f-e46c-9ac95874eb40"
      },
      "execution_count": 106,
      "outputs": [
        {
          "output_type": "execute_result",
          "data": {
            "text/plain": [
              "['(no genres listed)',\n",
              " 'Action',\n",
              " 'Adventure',\n",
              " 'Animation',\n",
              " 'Children',\n",
              " 'Comedy',\n",
              " 'Crime',\n",
              " 'Documentary',\n",
              " 'Drama',\n",
              " 'Fantasy',\n",
              " 'Film-Noir',\n",
              " 'Horror',\n",
              " 'IMAX',\n",
              " 'Musical',\n",
              " 'Mystery',\n",
              " 'Romance',\n",
              " 'Sci-Fi',\n",
              " 'Thriller',\n",
              " 'War',\n",
              " 'Western']"
            ]
          },
          "metadata": {},
          "execution_count": 106
        }
      ]
    },
    {
      "cell_type": "code",
      "source": [
        "new_user_id = 5000\n",
        "new_rating_count = 5\n",
        "new_rating_ave = 4.0\n",
        "\n",
        "user_genre_to_user_vec_index = {\n",
        "    **{all_genres_sorted[i]: i for i in range(len(all_genres_sorted))},\n",
        "}\n",
        "\n",
        "user_vec = np.array([0 for i in range(len(user_train_train[0]))])\n",
        "user_vec[0] = 5000 # new user_id\n",
        "user_vec[1] = 5 # new rating_count\n",
        "user_vec[2] = 4.0 # new rating_vg\n",
        "\n",
        "# Set genre avg_rating score to '5' to tell model this is a fan of that genre.\n",
        "user_vec[user_genre_to_user_vec_index['Horror'] + u_s] = 5.0\n",
        "\n",
        "user_vec = np.array([user_vec for i in range(len(movie_vectors))])"
      ],
      "metadata": {
        "id": "NNHOlZhnrutn"
      },
      "execution_count": 107,
      "outputs": []
    },
    {
      "cell_type": "code",
      "source": [
        "predictions = model.predict([user_vec[:, u_s:], movie_vectors_scaled[:, i_s:]])"
      ],
      "metadata": {
        "colab": {
          "base_uri": "https://localhost:8080/"
        },
        "id": "_jO_IDs40dge",
        "outputId": "514f9943-2d43-4441-c9b2-ce197704b253"
      },
      "execution_count": 113,
      "outputs": [
        {
          "output_type": "stream",
          "name": "stdout",
          "text": [
            "304/304 [==============================] - 1s 2ms/step\n"
          ]
        }
      ]
    },
    {
      "cell_type": "code",
      "source": [
        "predictions_with_titles = []\n",
        "\n",
        "for i in range(len(predictions)):\n",
        "  pred_value = predictions[i]\n",
        "  movie_id = movie_vector_index_to_movie_id[i]\n",
        "  predictions_with_titles.append((pred_value[0], movie_to_title[movie_id], '|'.join(movie_to_genres[movie_id])))\n",
        "\n",
        "predictions_with_titles.sort(key=lambda x:x[0], reverse=True)"
      ],
      "metadata": {
        "id": "YfzANAlGzxOx"
      },
      "execution_count": 114,
      "outputs": []
    },
    {
      "cell_type": "code",
      "source": [
        "user_recs_d = {}\n",
        "i = 0\n",
        "\n",
        "for tup in predictions_with_titles:\n",
        "  user_recs_d[i] = {\n",
        "      'movie_title': tup[1],\n",
        "      'movie_genres': tup[2],\n",
        "      'score': tup[0]\n",
        "  }\n",
        "  i += 1\n",
        "\n",
        "user_recs_df = pd.DataFrame.from_dict(user_recs_d, orient ='index')"
      ],
      "metadata": {
        "id": "0Bdj4Xf20ULe"
      },
      "execution_count": 115,
      "outputs": []
    },
    {
      "cell_type": "code",
      "source": [
        "user_recs_df.head(10)"
      ],
      "metadata": {
        "colab": {
          "base_uri": "https://localhost:8080/",
          "height": 363
        },
        "id": "53K0oqHU0VAU",
        "outputId": "a38b3fef-8f81-4191-af8b-813eca67af50"
      },
      "execution_count": 116,
      "outputs": [
        {
          "output_type": "execute_result",
          "data": {
            "text/plain": [
              "                                         movie_title  \\\n",
              "0  Cabinet of Dr. Caligari, The (Cabinet des Dr. ...   \n",
              "1                                    Rosemary's Baby   \n",
              "2           Black Sabbath (Tre volti della paura, I)   \n",
              "3                                        Blood Feast   \n",
              "4                   What Ever Happened to Baby Jane?   \n",
              "5                                  The Body Snatcher   \n",
              "6                                             Misery   \n",
              "7                                       'Salem's Lot   \n",
              "8                                         Eraserhead   \n",
              "9                                     Thesis (Tesis)   \n",
              "\n",
              "                    movie_genres  score  \n",
              "0           Fantasy|Crime|Horror    0.9  \n",
              "1          Horror|Thriller|Drama    0.9  \n",
              "2                         Horror    0.9  \n",
              "3                         Horror    0.9  \n",
              "4          Horror|Thriller|Drama    0.9  \n",
              "5          Horror|Thriller|Drama    0.9  \n",
              "6          Horror|Thriller|Drama    0.9  \n",
              "7  Mystery|Horror|Thriller|Drama    0.9  \n",
              "8                   Horror|Drama    0.9  \n",
              "9          Horror|Thriller|Drama    0.9  "
            ],
            "text/html": [
              "\n",
              "  <div id=\"df-e4116e4b-0fb5-4d85-b8e8-a565c576e343\" class=\"colab-df-container\">\n",
              "    <div>\n",
              "<style scoped>\n",
              "    .dataframe tbody tr th:only-of-type {\n",
              "        vertical-align: middle;\n",
              "    }\n",
              "\n",
              "    .dataframe tbody tr th {\n",
              "        vertical-align: top;\n",
              "    }\n",
              "\n",
              "    .dataframe thead th {\n",
              "        text-align: right;\n",
              "    }\n",
              "</style>\n",
              "<table border=\"1\" class=\"dataframe\">\n",
              "  <thead>\n",
              "    <tr style=\"text-align: right;\">\n",
              "      <th></th>\n",
              "      <th>movie_title</th>\n",
              "      <th>movie_genres</th>\n",
              "      <th>score</th>\n",
              "    </tr>\n",
              "  </thead>\n",
              "  <tbody>\n",
              "    <tr>\n",
              "      <th>0</th>\n",
              "      <td>Cabinet of Dr. Caligari, The (Cabinet des Dr. ...</td>\n",
              "      <td>Fantasy|Crime|Horror</td>\n",
              "      <td>0.9</td>\n",
              "    </tr>\n",
              "    <tr>\n",
              "      <th>1</th>\n",
              "      <td>Rosemary's Baby</td>\n",
              "      <td>Horror|Thriller|Drama</td>\n",
              "      <td>0.9</td>\n",
              "    </tr>\n",
              "    <tr>\n",
              "      <th>2</th>\n",
              "      <td>Black Sabbath (Tre volti della paura, I)</td>\n",
              "      <td>Horror</td>\n",
              "      <td>0.9</td>\n",
              "    </tr>\n",
              "    <tr>\n",
              "      <th>3</th>\n",
              "      <td>Blood Feast</td>\n",
              "      <td>Horror</td>\n",
              "      <td>0.9</td>\n",
              "    </tr>\n",
              "    <tr>\n",
              "      <th>4</th>\n",
              "      <td>What Ever Happened to Baby Jane?</td>\n",
              "      <td>Horror|Thriller|Drama</td>\n",
              "      <td>0.9</td>\n",
              "    </tr>\n",
              "    <tr>\n",
              "      <th>5</th>\n",
              "      <td>The Body Snatcher</td>\n",
              "      <td>Horror|Thriller|Drama</td>\n",
              "      <td>0.9</td>\n",
              "    </tr>\n",
              "    <tr>\n",
              "      <th>6</th>\n",
              "      <td>Misery</td>\n",
              "      <td>Horror|Thriller|Drama</td>\n",
              "      <td>0.9</td>\n",
              "    </tr>\n",
              "    <tr>\n",
              "      <th>7</th>\n",
              "      <td>'Salem's Lot</td>\n",
              "      <td>Mystery|Horror|Thriller|Drama</td>\n",
              "      <td>0.9</td>\n",
              "    </tr>\n",
              "    <tr>\n",
              "      <th>8</th>\n",
              "      <td>Eraserhead</td>\n",
              "      <td>Horror|Drama</td>\n",
              "      <td>0.9</td>\n",
              "    </tr>\n",
              "    <tr>\n",
              "      <th>9</th>\n",
              "      <td>Thesis (Tesis)</td>\n",
              "      <td>Horror|Thriller|Drama</td>\n",
              "      <td>0.9</td>\n",
              "    </tr>\n",
              "  </tbody>\n",
              "</table>\n",
              "</div>\n",
              "    <div class=\"colab-df-buttons\">\n",
              "\n",
              "  <div class=\"colab-df-container\">\n",
              "    <button class=\"colab-df-convert\" onclick=\"convertToInteractive('df-e4116e4b-0fb5-4d85-b8e8-a565c576e343')\"\n",
              "            title=\"Convert this dataframe to an interactive table.\"\n",
              "            style=\"display:none;\">\n",
              "\n",
              "  <svg xmlns=\"http://www.w3.org/2000/svg\" height=\"24px\" viewBox=\"0 -960 960 960\">\n",
              "    <path d=\"M120-120v-720h720v720H120Zm60-500h600v-160H180v160Zm220 220h160v-160H400v160Zm0 220h160v-160H400v160ZM180-400h160v-160H180v160Zm440 0h160v-160H620v160ZM180-180h160v-160H180v160Zm440 0h160v-160H620v160Z\"/>\n",
              "  </svg>\n",
              "    </button>\n",
              "\n",
              "  <style>\n",
              "    .colab-df-container {\n",
              "      display:flex;\n",
              "      gap: 12px;\n",
              "    }\n",
              "\n",
              "    .colab-df-convert {\n",
              "      background-color: #E8F0FE;\n",
              "      border: none;\n",
              "      border-radius: 50%;\n",
              "      cursor: pointer;\n",
              "      display: none;\n",
              "      fill: #1967D2;\n",
              "      height: 32px;\n",
              "      padding: 0 0 0 0;\n",
              "      width: 32px;\n",
              "    }\n",
              "\n",
              "    .colab-df-convert:hover {\n",
              "      background-color: #E2EBFA;\n",
              "      box-shadow: 0px 1px 2px rgba(60, 64, 67, 0.3), 0px 1px 3px 1px rgba(60, 64, 67, 0.15);\n",
              "      fill: #174EA6;\n",
              "    }\n",
              "\n",
              "    .colab-df-buttons div {\n",
              "      margin-bottom: 4px;\n",
              "    }\n",
              "\n",
              "    [theme=dark] .colab-df-convert {\n",
              "      background-color: #3B4455;\n",
              "      fill: #D2E3FC;\n",
              "    }\n",
              "\n",
              "    [theme=dark] .colab-df-convert:hover {\n",
              "      background-color: #434B5C;\n",
              "      box-shadow: 0px 1px 3px 1px rgba(0, 0, 0, 0.15);\n",
              "      filter: drop-shadow(0px 1px 2px rgba(0, 0, 0, 0.3));\n",
              "      fill: #FFFFFF;\n",
              "    }\n",
              "  </style>\n",
              "\n",
              "    <script>\n",
              "      const buttonEl =\n",
              "        document.querySelector('#df-e4116e4b-0fb5-4d85-b8e8-a565c576e343 button.colab-df-convert');\n",
              "      buttonEl.style.display =\n",
              "        google.colab.kernel.accessAllowed ? 'block' : 'none';\n",
              "\n",
              "      async function convertToInteractive(key) {\n",
              "        const element = document.querySelector('#df-e4116e4b-0fb5-4d85-b8e8-a565c576e343');\n",
              "        const dataTable =\n",
              "          await google.colab.kernel.invokeFunction('convertToInteractive',\n",
              "                                                    [key], {});\n",
              "        if (!dataTable) return;\n",
              "\n",
              "        const docLinkHtml = 'Like what you see? Visit the ' +\n",
              "          '<a target=\"_blank\" href=https://colab.research.google.com/notebooks/data_table.ipynb>data table notebook</a>'\n",
              "          + ' to learn more about interactive tables.';\n",
              "        element.innerHTML = '';\n",
              "        dataTable['output_type'] = 'display_data';\n",
              "        await google.colab.output.renderOutput(dataTable, element);\n",
              "        const docLink = document.createElement('div');\n",
              "        docLink.innerHTML = docLinkHtml;\n",
              "        element.appendChild(docLink);\n",
              "      }\n",
              "    </script>\n",
              "  </div>\n",
              "\n",
              "\n",
              "<div id=\"df-fce1a58c-04b2-477e-aa43-d814279f3643\">\n",
              "  <button class=\"colab-df-quickchart\" onclick=\"quickchart('df-fce1a58c-04b2-477e-aa43-d814279f3643')\"\n",
              "            title=\"Suggest charts.\"\n",
              "            style=\"display:none;\">\n",
              "\n",
              "<svg xmlns=\"http://www.w3.org/2000/svg\" height=\"24px\"viewBox=\"0 0 24 24\"\n",
              "     width=\"24px\">\n",
              "    <g>\n",
              "        <path d=\"M19 3H5c-1.1 0-2 .9-2 2v14c0 1.1.9 2 2 2h14c1.1 0 2-.9 2-2V5c0-1.1-.9-2-2-2zM9 17H7v-7h2v7zm4 0h-2V7h2v10zm4 0h-2v-4h2v4z\"/>\n",
              "    </g>\n",
              "</svg>\n",
              "  </button>\n",
              "\n",
              "<style>\n",
              "  .colab-df-quickchart {\n",
              "    background-color: #E8F0FE;\n",
              "    border: none;\n",
              "    border-radius: 50%;\n",
              "    cursor: pointer;\n",
              "    display: none;\n",
              "    fill: #1967D2;\n",
              "    height: 32px;\n",
              "    padding: 0 0 0 0;\n",
              "    width: 32px;\n",
              "  }\n",
              "\n",
              "  .colab-df-quickchart:hover {\n",
              "    background-color: #E2EBFA;\n",
              "    box-shadow: 0px 1px 2px rgba(60, 64, 67, 0.3), 0px 1px 3px 1px rgba(60, 64, 67, 0.15);\n",
              "    fill: #174EA6;\n",
              "  }\n",
              "\n",
              "  [theme=dark] .colab-df-quickchart {\n",
              "    background-color: #3B4455;\n",
              "    fill: #D2E3FC;\n",
              "  }\n",
              "\n",
              "  [theme=dark] .colab-df-quickchart:hover {\n",
              "    background-color: #434B5C;\n",
              "    box-shadow: 0px 1px 3px 1px rgba(0, 0, 0, 0.15);\n",
              "    filter: drop-shadow(0px 1px 2px rgba(0, 0, 0, 0.3));\n",
              "    fill: #FFFFFF;\n",
              "  }\n",
              "</style>\n",
              "\n",
              "  <script>\n",
              "    async function quickchart(key) {\n",
              "      const charts = await google.colab.kernel.invokeFunction(\n",
              "          'suggestCharts', [key], {});\n",
              "    }\n",
              "    (() => {\n",
              "      let quickchartButtonEl =\n",
              "        document.querySelector('#df-fce1a58c-04b2-477e-aa43-d814279f3643 button');\n",
              "      quickchartButtonEl.style.display =\n",
              "        google.colab.kernel.accessAllowed ? 'block' : 'none';\n",
              "    })();\n",
              "  </script>\n",
              "</div>\n",
              "    </div>\n",
              "  </div>\n"
            ]
          },
          "metadata": {},
          "execution_count": 116
        }
      ]
    },
    {
      "cell_type": "code",
      "source": [],
      "metadata": {
        "id": "fi3E488a5rjQ"
      },
      "execution_count": null,
      "outputs": []
    }
  ]
}